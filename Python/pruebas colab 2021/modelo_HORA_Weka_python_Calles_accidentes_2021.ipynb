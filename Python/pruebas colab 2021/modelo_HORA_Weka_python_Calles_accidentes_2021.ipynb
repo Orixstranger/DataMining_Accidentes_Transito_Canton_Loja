{
  "nbformat": 4,
  "nbformat_minor": 0,
  "metadata": {
    "colab": {
      "provenance": []
    },
    "kernelspec": {
      "name": "python3",
      "display_name": "Python 3"
    },
    "language_info": {
      "name": "python"
    }
  },
  "cells": [
    {
      "cell_type": "markdown",
      "source": [
        "## Variable \"hora\" PRUEBA 4"
      ],
      "metadata": {
        "id": "Ks1ejytQATZG"
      }
    },
    {
      "cell_type": "markdown",
      "source": [
        "Se verificará con rangos de 6 horas sin alteraciones de variables para verificar la prediccion del modelo"
      ],
      "metadata": {
        "id": "_m3lg6HCLJBU"
      }
    },
    {
      "cell_type": "markdown",
      "source": [
        "Cargamos las librerias necesarias para la elaboracion y desarrollo de la minería de datos"
      ],
      "metadata": {
        "id": "x2VfWn3xAgas"
      }
    },
    {
      "cell_type": "code",
      "source": [
        "!pip install plotly\n",
        "import numpy as np #Operaciones matemáticas rápidas sobre matrices\n",
        "import pandas as pd #biblioteca de análisis y manipulación de datos para Python\n",
        "import plotly.express as px\n",
        "import matplotlib.pyplot as plt #Proporciona una forma de trazado similar a MATLAB. pyplot está diseñado principalmente para gráficos interactivos y casos simples de generación de tramas programáticas. La API orientada a objetos se recomienda para gráficos más complejos.\n",
        "import seaborn as sns #permite generar fácilmente elegantes gráficos, proporciona una interfaz de alto nivel que es realmente sencilla de aprender.\n",
        "import statsmodels.api as sm\n",
        "\n",
        "# Preprocesado y modelado\n",
        "# ------------------------------------------------------------------------------\n",
        "from sklearn.model_selection import train_test_split\n",
        "from sklearn.tree import DecisionTreeClassifier\n",
        "from sklearn.tree import plot_tree\n",
        "from sklearn.tree import export_graphviz\n",
        "from sklearn.tree import export_text\n",
        "from sklearn.model_selection import GridSearchCV\n",
        "from sklearn.compose import ColumnTransformer\n",
        "from sklearn.preprocessing import OneHotEncoder\n",
        "from sklearn.metrics import accuracy_score\n",
        "from sklearn.metrics import confusion_matrix\n",
        "\n",
        "# Configuración warnings\n",
        "# ------------------------------------------------------------------------------\n",
        "import warnings\n",
        "warnings.filterwarnings('once')\n",
        "#Dataset\n",
        "# ------------------------------------------------------------------------------\n",
        "df= pd.read_csv('AT2021_NBD.csv')\n",
        "df.head()"
      ],
      "metadata": {
        "colab": {
          "base_uri": "https://localhost:8080/",
          "height": 565
        },
        "id": "D_vRsPcBiBEj",
        "outputId": "183d4c76-93a8-48bd-887b-1e86210aa199"
      },
      "execution_count": 1,
      "outputs": [
        {
          "output_type": "stream",
          "name": "stdout",
          "text": [
            "Looking in indexes: https://pypi.org/simple, https://us-python.pkg.dev/colab-wheels/public/simple/\n",
            "Requirement already satisfied: plotly in /usr/local/lib/python3.9/dist-packages (5.5.0)\n",
            "Requirement already satisfied: six in /usr/local/lib/python3.9/dist-packages (from plotly) (1.15.0)\n",
            "Requirement already satisfied: tenacity>=6.2.0 in /usr/local/lib/python3.9/dist-packages (from plotly) (8.2.2)\n"
          ]
        },
        {
          "output_type": "execute_result",
          "data": {
            "text/plain": [
              "   fecha      dia hora   latitud   longitud                     tipologia  \\\n",
              "0  01-01  viernes  h11 -3.991993 -79.201155                estrellamiento   \n",
              "1  01-05   martes  h17 -4.020370 -79.217962  choque lateral perpendicular   \n",
              "2  01-05   martes  h12 -3.987230 -79.202984            choque por alcance   \n",
              "3  01-08  viernes  h10 -3.989410 -79.236506                     atropello   \n",
              "4  01-09   sabado  h06 -3.979784 -79.218689        choque lateral angular   \n",
              "\n",
              "                                       direccion    zona parroquia_urbana  \\\n",
              "0  orillas del zamora y jose felix de valdivieso  urbana         el valle   \n",
              "1             benjamin carrion y gustavo serrano  urbana          punzara   \n",
              "2                          nueva loja y guaranda  urbana            sucre   \n",
              "3                         angel felicisimo rojas  urbana            sucre   \n",
              "4                          isidro ayora y habana  urbana            sucre   \n",
              "\n",
              "                                   causas gravedad  nro_heridos  \\\n",
              "0        conducir en estado de embriaguez    grave            1   \n",
              "1        conducir en estado de embriaguez    grave            1   \n",
              "2  no mantener la distancia reglamentaria     leve            0   \n",
              "3                  imprudencia del peaton    grave            1   \n",
              "4        conducir en estado de embriaguez     leve            0   \n",
              "\n",
              "   nro_fallecidos  vehiculos_retenidos              senalizacion_existente  \\\n",
              "0               0                    3  senalizacion horizontal y vertical   \n",
              "1               0                    2               senalizacion vertical   \n",
              "2               0                    2               senalizacion vertical   \n",
              "3               0                    1               senalizacion vertical   \n",
              "4               0                    2  senalizacion horizontal y vertical   \n",
              "\n",
              "  condicion_calzada condicion_atmosferica  \n",
              "0             bueno                lluvia  \n",
              "1             bueno                lluvia  \n",
              "2           regular                lluvia  \n",
              "3           regular             despejado  \n",
              "4             bueno                lluvia  "
            ],
            "text/html": [
              "\n",
              "  <div id=\"df-e9221eeb-7660-401c-9fba-d0ae75f13c19\">\n",
              "    <div class=\"colab-df-container\">\n",
              "      <div>\n",
              "<style scoped>\n",
              "    .dataframe tbody tr th:only-of-type {\n",
              "        vertical-align: middle;\n",
              "    }\n",
              "\n",
              "    .dataframe tbody tr th {\n",
              "        vertical-align: top;\n",
              "    }\n",
              "\n",
              "    .dataframe thead th {\n",
              "        text-align: right;\n",
              "    }\n",
              "</style>\n",
              "<table border=\"1\" class=\"dataframe\">\n",
              "  <thead>\n",
              "    <tr style=\"text-align: right;\">\n",
              "      <th></th>\n",
              "      <th>fecha</th>\n",
              "      <th>dia</th>\n",
              "      <th>hora</th>\n",
              "      <th>latitud</th>\n",
              "      <th>longitud</th>\n",
              "      <th>tipologia</th>\n",
              "      <th>direccion</th>\n",
              "      <th>zona</th>\n",
              "      <th>parroquia_urbana</th>\n",
              "      <th>causas</th>\n",
              "      <th>gravedad</th>\n",
              "      <th>nro_heridos</th>\n",
              "      <th>nro_fallecidos</th>\n",
              "      <th>vehiculos_retenidos</th>\n",
              "      <th>senalizacion_existente</th>\n",
              "      <th>condicion_calzada</th>\n",
              "      <th>condicion_atmosferica</th>\n",
              "    </tr>\n",
              "  </thead>\n",
              "  <tbody>\n",
              "    <tr>\n",
              "      <th>0</th>\n",
              "      <td>01-01</td>\n",
              "      <td>viernes</td>\n",
              "      <td>h11</td>\n",
              "      <td>-3.991993</td>\n",
              "      <td>-79.201155</td>\n",
              "      <td>estrellamiento</td>\n",
              "      <td>orillas del zamora y jose felix de valdivieso</td>\n",
              "      <td>urbana</td>\n",
              "      <td>el valle</td>\n",
              "      <td>conducir en estado de embriaguez</td>\n",
              "      <td>grave</td>\n",
              "      <td>1</td>\n",
              "      <td>0</td>\n",
              "      <td>3</td>\n",
              "      <td>senalizacion horizontal y vertical</td>\n",
              "      <td>bueno</td>\n",
              "      <td>lluvia</td>\n",
              "    </tr>\n",
              "    <tr>\n",
              "      <th>1</th>\n",
              "      <td>01-05</td>\n",
              "      <td>martes</td>\n",
              "      <td>h17</td>\n",
              "      <td>-4.020370</td>\n",
              "      <td>-79.217962</td>\n",
              "      <td>choque lateral perpendicular</td>\n",
              "      <td>benjamin carrion y gustavo serrano</td>\n",
              "      <td>urbana</td>\n",
              "      <td>punzara</td>\n",
              "      <td>conducir en estado de embriaguez</td>\n",
              "      <td>grave</td>\n",
              "      <td>1</td>\n",
              "      <td>0</td>\n",
              "      <td>2</td>\n",
              "      <td>senalizacion vertical</td>\n",
              "      <td>bueno</td>\n",
              "      <td>lluvia</td>\n",
              "    </tr>\n",
              "    <tr>\n",
              "      <th>2</th>\n",
              "      <td>01-05</td>\n",
              "      <td>martes</td>\n",
              "      <td>h12</td>\n",
              "      <td>-3.987230</td>\n",
              "      <td>-79.202984</td>\n",
              "      <td>choque por alcance</td>\n",
              "      <td>nueva loja y guaranda</td>\n",
              "      <td>urbana</td>\n",
              "      <td>sucre</td>\n",
              "      <td>no mantener la distancia reglamentaria</td>\n",
              "      <td>leve</td>\n",
              "      <td>0</td>\n",
              "      <td>0</td>\n",
              "      <td>2</td>\n",
              "      <td>senalizacion vertical</td>\n",
              "      <td>regular</td>\n",
              "      <td>lluvia</td>\n",
              "    </tr>\n",
              "    <tr>\n",
              "      <th>3</th>\n",
              "      <td>01-08</td>\n",
              "      <td>viernes</td>\n",
              "      <td>h10</td>\n",
              "      <td>-3.989410</td>\n",
              "      <td>-79.236506</td>\n",
              "      <td>atropello</td>\n",
              "      <td>angel felicisimo rojas</td>\n",
              "      <td>urbana</td>\n",
              "      <td>sucre</td>\n",
              "      <td>imprudencia del peaton</td>\n",
              "      <td>grave</td>\n",
              "      <td>1</td>\n",
              "      <td>0</td>\n",
              "      <td>1</td>\n",
              "      <td>senalizacion vertical</td>\n",
              "      <td>regular</td>\n",
              "      <td>despejado</td>\n",
              "    </tr>\n",
              "    <tr>\n",
              "      <th>4</th>\n",
              "      <td>01-09</td>\n",
              "      <td>sabado</td>\n",
              "      <td>h06</td>\n",
              "      <td>-3.979784</td>\n",
              "      <td>-79.218689</td>\n",
              "      <td>choque lateral angular</td>\n",
              "      <td>isidro ayora y habana</td>\n",
              "      <td>urbana</td>\n",
              "      <td>sucre</td>\n",
              "      <td>conducir en estado de embriaguez</td>\n",
              "      <td>leve</td>\n",
              "      <td>0</td>\n",
              "      <td>0</td>\n",
              "      <td>2</td>\n",
              "      <td>senalizacion horizontal y vertical</td>\n",
              "      <td>bueno</td>\n",
              "      <td>lluvia</td>\n",
              "    </tr>\n",
              "  </tbody>\n",
              "</table>\n",
              "</div>\n",
              "      <button class=\"colab-df-convert\" onclick=\"convertToInteractive('df-e9221eeb-7660-401c-9fba-d0ae75f13c19')\"\n",
              "              title=\"Convert this dataframe to an interactive table.\"\n",
              "              style=\"display:none;\">\n",
              "        \n",
              "  <svg xmlns=\"http://www.w3.org/2000/svg\" height=\"24px\"viewBox=\"0 0 24 24\"\n",
              "       width=\"24px\">\n",
              "    <path d=\"M0 0h24v24H0V0z\" fill=\"none\"/>\n",
              "    <path d=\"M18.56 5.44l.94 2.06.94-2.06 2.06-.94-2.06-.94-.94-2.06-.94 2.06-2.06.94zm-11 1L8.5 8.5l.94-2.06 2.06-.94-2.06-.94L8.5 2.5l-.94 2.06-2.06.94zm10 10l.94 2.06.94-2.06 2.06-.94-2.06-.94-.94-2.06-.94 2.06-2.06.94z\"/><path d=\"M17.41 7.96l-1.37-1.37c-.4-.4-.92-.59-1.43-.59-.52 0-1.04.2-1.43.59L10.3 9.45l-7.72 7.72c-.78.78-.78 2.05 0 2.83L4 21.41c.39.39.9.59 1.41.59.51 0 1.02-.2 1.41-.59l7.78-7.78 2.81-2.81c.8-.78.8-2.07 0-2.86zM5.41 20L4 18.59l7.72-7.72 1.47 1.35L5.41 20z\"/>\n",
              "  </svg>\n",
              "      </button>\n",
              "      \n",
              "  <style>\n",
              "    .colab-df-container {\n",
              "      display:flex;\n",
              "      flex-wrap:wrap;\n",
              "      gap: 12px;\n",
              "    }\n",
              "\n",
              "    .colab-df-convert {\n",
              "      background-color: #E8F0FE;\n",
              "      border: none;\n",
              "      border-radius: 50%;\n",
              "      cursor: pointer;\n",
              "      display: none;\n",
              "      fill: #1967D2;\n",
              "      height: 32px;\n",
              "      padding: 0 0 0 0;\n",
              "      width: 32px;\n",
              "    }\n",
              "\n",
              "    .colab-df-convert:hover {\n",
              "      background-color: #E2EBFA;\n",
              "      box-shadow: 0px 1px 2px rgba(60, 64, 67, 0.3), 0px 1px 3px 1px rgba(60, 64, 67, 0.15);\n",
              "      fill: #174EA6;\n",
              "    }\n",
              "\n",
              "    [theme=dark] .colab-df-convert {\n",
              "      background-color: #3B4455;\n",
              "      fill: #D2E3FC;\n",
              "    }\n",
              "\n",
              "    [theme=dark] .colab-df-convert:hover {\n",
              "      background-color: #434B5C;\n",
              "      box-shadow: 0px 1px 3px 1px rgba(0, 0, 0, 0.15);\n",
              "      filter: drop-shadow(0px 1px 2px rgba(0, 0, 0, 0.3));\n",
              "      fill: #FFFFFF;\n",
              "    }\n",
              "  </style>\n",
              "\n",
              "      <script>\n",
              "        const buttonEl =\n",
              "          document.querySelector('#df-e9221eeb-7660-401c-9fba-d0ae75f13c19 button.colab-df-convert');\n",
              "        buttonEl.style.display =\n",
              "          google.colab.kernel.accessAllowed ? 'block' : 'none';\n",
              "\n",
              "        async function convertToInteractive(key) {\n",
              "          const element = document.querySelector('#df-e9221eeb-7660-401c-9fba-d0ae75f13c19');\n",
              "          const dataTable =\n",
              "            await google.colab.kernel.invokeFunction('convertToInteractive',\n",
              "                                                     [key], {});\n",
              "          if (!dataTable) return;\n",
              "\n",
              "          const docLinkHtml = 'Like what you see? Visit the ' +\n",
              "            '<a target=\"_blank\" href=https://colab.research.google.com/notebooks/data_table.ipynb>data table notebook</a>'\n",
              "            + ' to learn more about interactive tables.';\n",
              "          element.innerHTML = '';\n",
              "          dataTable['output_type'] = 'display_data';\n",
              "          await google.colab.output.renderOutput(dataTable, element);\n",
              "          const docLink = document.createElement('div');\n",
              "          docLink.innerHTML = docLinkHtml;\n",
              "          element.appendChild(docLink);\n",
              "        }\n",
              "      </script>\n",
              "    </div>\n",
              "  </div>\n",
              "  "
            ]
          },
          "metadata": {},
          "execution_count": 1
        }
      ]
    },
    {
      "cell_type": "markdown",
      "source": [
        "Graficamos el mapa de calor de accidentabilidad dentro del cantón Loja"
      ],
      "metadata": {
        "id": "bRd4Hid8AI_b"
      }
    },
    {
      "cell_type": "code",
      "source": [
        "fig = px.density_mapbox(df,lat='latitud', lon='longitud',radius=3,center=dict(lat=-3.99313,lon=-79.20422),zoom=10.5,mapbox_style=\"open-street-map\")\n",
        "\n",
        "fig.show()"
      ],
      "metadata": {
        "id": "6mhVGssPgdGw",
        "colab": {
          "base_uri": "https://localhost:8080/",
          "height": 542
        },
        "outputId": "eb043ea0-6279-42d9-a4e1-16d93fbea644"
      },
      "execution_count": 2,
      "outputs": [
        {
          "output_type": "display_data",
          "data": {
            "text/html": [
              "<html>\n",
              "<head><meta charset=\"utf-8\" /></head>\n",
              "<body>\n",
              "    <div>            <script src=\"https://cdnjs.cloudflare.com/ajax/libs/mathjax/2.7.5/MathJax.js?config=TeX-AMS-MML_SVG\"></script><script type=\"text/javascript\">if (window.MathJax) {MathJax.Hub.Config({SVG: {font: \"STIX-Web\"}});}</script>                <script type=\"text/javascript\">window.PlotlyConfig = {MathJaxConfig: 'local'};</script>\n",
              "        <script src=\"https://cdn.plot.ly/plotly-2.8.3.min.js\"></script>                <div id=\"61d30e50-5900-4408-aad3-8c4de6b4bd45\" class=\"plotly-graph-div\" style=\"height:525px; width:100%;\"></div>            <script type=\"text/javascript\">                                    window.PLOTLYENV=window.PLOTLYENV || {};                                    if (document.getElementById(\"61d30e50-5900-4408-aad3-8c4de6b4bd45\")) {                    Plotly.newPlot(                        \"61d30e50-5900-4408-aad3-8c4de6b4bd45\",                        [{\"coloraxis\":\"coloraxis\",\"hovertemplate\":\"latitud=%{lat}<br>longitud=%{lon}<extra></extra>\",\"lat\":[-3.991993,-4.0203701,-3.98723,-3.98941,-3.9797842,-3.9773054,-4.014853,-3.9945775,-4.0120532,-4.001446,-4.0184094,-3.984322,-4.016394,-3.96983,-3.980269,-3.9831115,-3.9792207,-3.9921287,-3.948651,-4.009527,-3.98515363,-4.0206395,-4.0207656,-3.947943,-4.0116894,-3.992263,-3.9946094,-3.9991858,-4.002227,-4.007105,-4.0075031,-4.002547,-4.0074747,-3.977873,-4.0264313,-4.007822,-3.9653381,-3.9841349,-3.9884166,-3.9775837,-3.9796314,-3.977189,-3.988345,-3.9479556,-4.00322,-3.992591,-4.0059787,-4.0037605,-3.9933884,-4.0146279,-3.9997362,-3.970041,-3.9662402,-3.9941501,-3.976024,-3.9534859,-3.9641724,-4.0074012,-3.9906506,-4.0005688,-4.0001985,-3.9982763,-3.995984,-4.000006,-4.00247,-4.0280538,-3.9897975,-4.0023199,-3.9770813,-3.960301,-3.984992,-4.0141256,-4.0140319,-3.9581101,-3.9771378,-4.0056507,-4.0026457,-3.9939607,-4.001524,-3.9842117,-3.9995496,-3.9704094,-3.959031,-3.979533,-4.002461,-4.013094,-3.999028,-4.0248052,-3.9605416,-3.9682048,-4.0141384,-3.9918306,-3.9202771,-4.0177651,-4.010404,-3.948976,-3.948976,-4.0015687,null,-3.9947394,-4.003318,-3.9979669,-3.9807834,-3.9735941,-3.9745067,-3.9710329,-3.9787228,-3.9892911,-4.010099,-3.9859549,-4.0098183,-4.0123462,-4.029584,-3.979842,-4.03118,-4.0101103,-3.988152,-4.00385,-4.0017477,-3.985115,-4.003274,-3.987224,-3.9719984,-3.972189,-3.9531802,-3.9591442,-3.9934697,-3.9729048,-3.992649,-3.9911985,-4.0191886,-4.001599,-3.9794886,-4.0132305,-3.9881031,-4.0161243,-3.9887227,-4.003801,-3.98631,-3.988626,-3.982448,-4.0393507,-3.9705154,-3.9886945,-3.9878012,-3.999655,-4.061062,-3.99841,-3.9825738,-4.0439145,-4.0219087,-3.9712484,-3.9567655,-4.002305,-3.9821601,-3.989196,-4.0129251,-3.99929,-4.0205197,-4.0077089,-4.0122095,-4.003745,-4.002221,-4.02616,-3.989286,-3.9889243,-4.000086,-4.00156,-4.0791139,-3.958906,-4.0181984,-4.0002209,-3.9761274,-4.018556,-4.001655,-4.0121162,-4.0274763,-3.9958789,-4.024736,-3.9984088,-4.0013633,-4.0102139,-4.0057312,-3.999355,-3.970101,-3.9702967,-4.0041499,-3.9986897,-4.0051953,-3.9600806,-3.9872211,-4.0333459,-3.9982879,-3.997398,-4.0026731,-4.0095198,-4.032296,-4.0117373,-3.9992242,-3.977106,-4.016426,-4.0222194,-3.9838495,-3.9872182,-3.9768564,-4.0215901,-4.0026652,-3.9724208,-3.9815629,-3.9980824,-4.0066596,-3.9883239,-3.964629,-3.993197,-3.9922879,-4.002289,-4.0029528,-3.9705017,-4.010255,-3.9989251,-3.9630713,-3.9780637,-3.9780824,-3.9788316,-3.9941334,-3.9864777,-3.979365,-3.9780824,-3.9776394,-3.9946599,-4.0149525,-4.0063967,-4.002713,-4.0213536,-3.9904009,-3.996067,-4.0166134,-3.9945539,-3.9815712,-3.9726024,-3.9925553,-3.9953597,-4.0467472,-3.9792735,-3.9995585,-3.9994326,-3.999363,-3.9991842,-3.9881708,-4.0072962,-4.0020995,-3.954152,-3.9879653,-3.970442,-3.9904294,-4.0368819,-4.0114346,-3.9869842,-4.023045,-3.9919444,-3.9815543,-4.0312748,-3.9870446,-3.9972344,-4.0069886,-3.991071,-3.981683,-3.998128,-3.977846,-4.001459,-3.9996206,-3.9828319,-3.58432,-3.9608552,-4.0001785,-3.9956625,-4.0046529,-3.9861703,-3.978731,-4.0028432,-3.9759683,-3.9785663,-4.0081985,-4.033554,-4.0026282,-3.9834499,-4.0148439,-3.9796187,-3.9932677,-4.0101029,-3.9699055,-3.9801019,-3.945506,-4.0233036,-4.0095672,-3.9970494,-4.0121405,-3.9675594,-4.0068978,-4.015402,-3.9702094,-4.024687,-3.9449442,-4.000137,-4.0204417,-3.9869249,-4.0173072,-4.0274859,-4.0318262,-3.9792719,-3.997508,-4.0102522,-4.004665,-3.978846,-3.9928182,-4.047395,-4.0019275,-4.0037445,-4.0037195,-4.0014461,-3.9722492,-4.007517,-3.9696592,-4.005325,-3.9684,-3.9925063,-4.009918,-4.0024706,-4.0255171,-3.9964267,-3.9729394,-4.01208834,-3.9811276,-3.969675,-4.007015,-4.01286,-4.026359,-4.028534,-4.009613,-3.9817509,-3.991745,-3.9888962,-3.987778,-3.9906324,-4.0004945,-4.0037928,-4.012955,-3.9814732,-3.960596,-3.999582,-4.0324903,-3.986756,-3.9964836,-3.9829295,-3.976272,-3.9894089,-3.981457,-3.963277,-3.9762931,-4.0205286,-3.9938349,-3.9947238,-3.9920967,-3.9897155,-4.004631,-4.00753,-3.9446,-4.0035517,-4.014006,-3.9942246],\"lon\":[-79.2011551,-79.2179617,-79.202984,-79.236506,-79.2186893,-79.2270444,-79.2018759,-79.2101457,-79.2011581,-79.2061533,-79.2301538,-79.2191052,-79.248385,-79.208039,-79.207106,-79.2032879,-79.2078226,-79.2009774,-79.222292,-79.204733,-79.2015062,-79.2165238,-79.2033991,-79.218568,-79.2010805,-79.201591,-79.2052764,-79.2000139,-79.197613,-79.226851,-79.2037201,-79.2045993,-79.2024154,-79.20784,-79.2031015,-79.209522,-79.2128642,-79.2022212,-79.2053498,-79.2367202,-79.2158471,-79.198919,-79.212479,-79.2199444,-79.13463,-79.2203469,-79.201395,-79.2035034,-79.2104675,-79.2075103,-79.2069142,-79.208338,-79.212084,-79.2116608,-79.227284,-79.2481544,-79.2135206,-79.2032154,-79.2051288,-79.2130698,-79.1988727,-79.2050904,-79.199221,-79.196206,-79.22744,-79.2028097,-79.2118438,-79.1997609,-79.2051143,-79.216187,-79.2024673,-79.204197,-79.2151377,-79.2184525,-79.2058027,-79.2025327,-79.1948066,-79.2003909,-79.208848,-79.1979083,-79.2057547,-79.2074676,-79.207765,-79.207765,-79.201682,-79.202741,-79.199,-79.209115,-79.2396567,-79.1977198,-79.2043234,-79.2107065,-79.2549154,-79.209967,-79.202085,-79.216208,-79.216208,-79.206753,null,-79.199264,-79.195468,-79.1990699,-79.2120274,-79.2118036,-79.2014307,-79.2100988,-79.2208448,-79.2036379,-79.229271,-79.2100016,-79.2178919,-79.2038702,-79.180658,-79.2099719,-79.11447,-79.2046467,-79.2132777,-79.2034957,-79.2111156,-79.203967,-79.211763,-79.203467,-79.2158735,-79.2213,-79.2207857,-79.2168416,-79.1781077,-79.2210518,-79.2054949,-79.2015038,-79.2290339,-79.20513,-79.2193715,-79.2058612,-79.2030319,-79.2085314,-79.2102335,-79.2064085,-79.20223,-79.210097,-79.20774,-79.2070161,-79.20975,-79.2054147,-79.2029142,-79.212892,-79.196739,-79.197982,-79.199595,-79.196964,-79.2006624,-79.2102523,-79.2139419,-79.2008446,-79.2000027,-79.203385,-79.2022554,-79.205856,-79.2204262,-79.2070049,-79.2044479,-79.203558,-79.197626,-79.206013,-79.203342,-79.2083897,-79.197843,-79.20473,-79.196459,-79.253448,-79.2108218,-79.2018119,-79.2012514,-79.2284271,-79.2078231,-79.2311462,-79.208179,-79.2101216,-79.207156,-79.2079358,-79.2061592,-79.2108062,-79.2012326,-79.2036323,-79.209266,-79.2101891,-79.1957396,-79.2030094,-79.2123835,-79.2162776,-79.2028915,-79.2035247,-79.2035393,-79.205217,-79.2065723,-79.2037522,-79.2025201,-79.2308347,-79.2240294,-79.2056049,-79.203794,-79.2032911,-79.2131933,-79.2036773,-79.204493,-79.218387,-79.2073421,-79.2213606,-79.2012336,-79.2000976,-79.2051343,-79.2053524,-79.213205,-79.1994528,-79.2010675,-79.198713,-79.1975502,-79.202929,-79.200716,-79.1973866,-79.21473,-79.2225817,-79.2026206,-79.2206485,-79.2014414,-79.210104,-79.212767,-79.2026206,-79.2077031,-79.1993153,-79.2003663,-79.204126,-79.21893,-79.2250163,-79.2051158,-79.2082988,-79.2090417,-79.205602,-79.2029483,-79.2212683,-79.2035183,-79.202185,-79.1969448,-79.2097413,-79.2058239,-79.204524,-79.2037348,-79.2117189,-79.2101006,-79.2061245,-79.207496,-79.241121,-79.2130931,-79.2270212,-79.1855464,-79.1982945,-79.2012192,-79.189882,-79.2032607,-79.2055329,-79.2072991,-79.2131102,-79.2100524,-79.2072616,-79.2053288,-79.2097626,-79.246333,-79.2013458,-79.201128,-79.2043882,-79.2064329,-79.2036719,-79.12494,-79.2170995,-79.2063119,-79.2612541,-79.2040991,-79.1909748,-79.2044834,-79.1975622,-79.2046219,-79.2211454,-79.2049739,-79.209916,-79.2060157,-79.2085082,-79.215492,-79.2101363,-79.204339,-79.2297709,-79.20798,-79.2086558,-79.221926,-79.203042,-79.2036176,-79.2012082,-79.2044342,-79.2108886,-79.2293759,-79.203934,-79.2092005,-79.205015,-79.2220211,-79.207867,-79.2041991,-79.2044258,-79.2076844,-79.2040105,-79.1988619,-79.2016793,-79.215308,-79.2047724,-79.202051,-79.221318,-79.2043773,-79.196869,-79.195481,-79.2039582,-79.2027898,-79.2061536,-79.2214454,-79.203736,-79.2232925,-79.200945,-79.209666,-79.201225,-79.2073039,-79.1997542,-79.204913,-79.2052843,-79.2060026,-79.20449333,-79.2037989,-79.2235868,-79.205386,-79.2043502,-79.2034142,-79.213237,-79.203748,-79.2004036,-79.2045,-79.2040073,-79.2053302,-79.2052943,-79.2045674,-79.2058002,-79.201762,-79.2336474,-79.211158,-79.20584,-79.2124962,-79.2100302,-79.2045364,-79.2039098,-79.2034373,-79.2068053,-79.204682,-79.209422,-79.2011673,-79.2017103,-79.2055712,-79.1983185,-79.2111566,-79.2041333,-79.204096,-79.203735,-79.227849,-79.1996947,-79.2009807,-79.2120639],\"name\":\"\",\"radius\":3,\"subplot\":\"mapbox\",\"type\":\"densitymapbox\"}],                        {\"template\":{\"data\":{\"bar\":[{\"error_x\":{\"color\":\"#2a3f5f\"},\"error_y\":{\"color\":\"#2a3f5f\"},\"marker\":{\"line\":{\"color\":\"#E5ECF6\",\"width\":0.5},\"pattern\":{\"fillmode\":\"overlay\",\"size\":10,\"solidity\":0.2}},\"type\":\"bar\"}],\"barpolar\":[{\"marker\":{\"line\":{\"color\":\"#E5ECF6\",\"width\":0.5},\"pattern\":{\"fillmode\":\"overlay\",\"size\":10,\"solidity\":0.2}},\"type\":\"barpolar\"}],\"carpet\":[{\"aaxis\":{\"endlinecolor\":\"#2a3f5f\",\"gridcolor\":\"white\",\"linecolor\":\"white\",\"minorgridcolor\":\"white\",\"startlinecolor\":\"#2a3f5f\"},\"baxis\":{\"endlinecolor\":\"#2a3f5f\",\"gridcolor\":\"white\",\"linecolor\":\"white\",\"minorgridcolor\":\"white\",\"startlinecolor\":\"#2a3f5f\"},\"type\":\"carpet\"}],\"choropleth\":[{\"colorbar\":{\"outlinewidth\":0,\"ticks\":\"\"},\"type\":\"choropleth\"}],\"contour\":[{\"colorbar\":{\"outlinewidth\":0,\"ticks\":\"\"},\"colorscale\":[[0.0,\"#0d0887\"],[0.1111111111111111,\"#46039f\"],[0.2222222222222222,\"#7201a8\"],[0.3333333333333333,\"#9c179e\"],[0.4444444444444444,\"#bd3786\"],[0.5555555555555556,\"#d8576b\"],[0.6666666666666666,\"#ed7953\"],[0.7777777777777778,\"#fb9f3a\"],[0.8888888888888888,\"#fdca26\"],[1.0,\"#f0f921\"]],\"type\":\"contour\"}],\"contourcarpet\":[{\"colorbar\":{\"outlinewidth\":0,\"ticks\":\"\"},\"type\":\"contourcarpet\"}],\"heatmap\":[{\"colorbar\":{\"outlinewidth\":0,\"ticks\":\"\"},\"colorscale\":[[0.0,\"#0d0887\"],[0.1111111111111111,\"#46039f\"],[0.2222222222222222,\"#7201a8\"],[0.3333333333333333,\"#9c179e\"],[0.4444444444444444,\"#bd3786\"],[0.5555555555555556,\"#d8576b\"],[0.6666666666666666,\"#ed7953\"],[0.7777777777777778,\"#fb9f3a\"],[0.8888888888888888,\"#fdca26\"],[1.0,\"#f0f921\"]],\"type\":\"heatmap\"}],\"heatmapgl\":[{\"colorbar\":{\"outlinewidth\":0,\"ticks\":\"\"},\"colorscale\":[[0.0,\"#0d0887\"],[0.1111111111111111,\"#46039f\"],[0.2222222222222222,\"#7201a8\"],[0.3333333333333333,\"#9c179e\"],[0.4444444444444444,\"#bd3786\"],[0.5555555555555556,\"#d8576b\"],[0.6666666666666666,\"#ed7953\"],[0.7777777777777778,\"#fb9f3a\"],[0.8888888888888888,\"#fdca26\"],[1.0,\"#f0f921\"]],\"type\":\"heatmapgl\"}],\"histogram\":[{\"marker\":{\"pattern\":{\"fillmode\":\"overlay\",\"size\":10,\"solidity\":0.2}},\"type\":\"histogram\"}],\"histogram2d\":[{\"colorbar\":{\"outlinewidth\":0,\"ticks\":\"\"},\"colorscale\":[[0.0,\"#0d0887\"],[0.1111111111111111,\"#46039f\"],[0.2222222222222222,\"#7201a8\"],[0.3333333333333333,\"#9c179e\"],[0.4444444444444444,\"#bd3786\"],[0.5555555555555556,\"#d8576b\"],[0.6666666666666666,\"#ed7953\"],[0.7777777777777778,\"#fb9f3a\"],[0.8888888888888888,\"#fdca26\"],[1.0,\"#f0f921\"]],\"type\":\"histogram2d\"}],\"histogram2dcontour\":[{\"colorbar\":{\"outlinewidth\":0,\"ticks\":\"\"},\"colorscale\":[[0.0,\"#0d0887\"],[0.1111111111111111,\"#46039f\"],[0.2222222222222222,\"#7201a8\"],[0.3333333333333333,\"#9c179e\"],[0.4444444444444444,\"#bd3786\"],[0.5555555555555556,\"#d8576b\"],[0.6666666666666666,\"#ed7953\"],[0.7777777777777778,\"#fb9f3a\"],[0.8888888888888888,\"#fdca26\"],[1.0,\"#f0f921\"]],\"type\":\"histogram2dcontour\"}],\"mesh3d\":[{\"colorbar\":{\"outlinewidth\":0,\"ticks\":\"\"},\"type\":\"mesh3d\"}],\"parcoords\":[{\"line\":{\"colorbar\":{\"outlinewidth\":0,\"ticks\":\"\"}},\"type\":\"parcoords\"}],\"pie\":[{\"automargin\":true,\"type\":\"pie\"}],\"scatter\":[{\"marker\":{\"colorbar\":{\"outlinewidth\":0,\"ticks\":\"\"}},\"type\":\"scatter\"}],\"scatter3d\":[{\"line\":{\"colorbar\":{\"outlinewidth\":0,\"ticks\":\"\"}},\"marker\":{\"colorbar\":{\"outlinewidth\":0,\"ticks\":\"\"}},\"type\":\"scatter3d\"}],\"scattercarpet\":[{\"marker\":{\"colorbar\":{\"outlinewidth\":0,\"ticks\":\"\"}},\"type\":\"scattercarpet\"}],\"scattergeo\":[{\"marker\":{\"colorbar\":{\"outlinewidth\":0,\"ticks\":\"\"}},\"type\":\"scattergeo\"}],\"scattergl\":[{\"marker\":{\"colorbar\":{\"outlinewidth\":0,\"ticks\":\"\"}},\"type\":\"scattergl\"}],\"scattermapbox\":[{\"marker\":{\"colorbar\":{\"outlinewidth\":0,\"ticks\":\"\"}},\"type\":\"scattermapbox\"}],\"scatterpolar\":[{\"marker\":{\"colorbar\":{\"outlinewidth\":0,\"ticks\":\"\"}},\"type\":\"scatterpolar\"}],\"scatterpolargl\":[{\"marker\":{\"colorbar\":{\"outlinewidth\":0,\"ticks\":\"\"}},\"type\":\"scatterpolargl\"}],\"scatterternary\":[{\"marker\":{\"colorbar\":{\"outlinewidth\":0,\"ticks\":\"\"}},\"type\":\"scatterternary\"}],\"surface\":[{\"colorbar\":{\"outlinewidth\":0,\"ticks\":\"\"},\"colorscale\":[[0.0,\"#0d0887\"],[0.1111111111111111,\"#46039f\"],[0.2222222222222222,\"#7201a8\"],[0.3333333333333333,\"#9c179e\"],[0.4444444444444444,\"#bd3786\"],[0.5555555555555556,\"#d8576b\"],[0.6666666666666666,\"#ed7953\"],[0.7777777777777778,\"#fb9f3a\"],[0.8888888888888888,\"#fdca26\"],[1.0,\"#f0f921\"]],\"type\":\"surface\"}],\"table\":[{\"cells\":{\"fill\":{\"color\":\"#EBF0F8\"},\"line\":{\"color\":\"white\"}},\"header\":{\"fill\":{\"color\":\"#C8D4E3\"},\"line\":{\"color\":\"white\"}},\"type\":\"table\"}]},\"layout\":{\"annotationdefaults\":{\"arrowcolor\":\"#2a3f5f\",\"arrowhead\":0,\"arrowwidth\":1},\"autotypenumbers\":\"strict\",\"coloraxis\":{\"colorbar\":{\"outlinewidth\":0,\"ticks\":\"\"}},\"colorscale\":{\"diverging\":[[0,\"#8e0152\"],[0.1,\"#c51b7d\"],[0.2,\"#de77ae\"],[0.3,\"#f1b6da\"],[0.4,\"#fde0ef\"],[0.5,\"#f7f7f7\"],[0.6,\"#e6f5d0\"],[0.7,\"#b8e186\"],[0.8,\"#7fbc41\"],[0.9,\"#4d9221\"],[1,\"#276419\"]],\"sequential\":[[0.0,\"#0d0887\"],[0.1111111111111111,\"#46039f\"],[0.2222222222222222,\"#7201a8\"],[0.3333333333333333,\"#9c179e\"],[0.4444444444444444,\"#bd3786\"],[0.5555555555555556,\"#d8576b\"],[0.6666666666666666,\"#ed7953\"],[0.7777777777777778,\"#fb9f3a\"],[0.8888888888888888,\"#fdca26\"],[1.0,\"#f0f921\"]],\"sequentialminus\":[[0.0,\"#0d0887\"],[0.1111111111111111,\"#46039f\"],[0.2222222222222222,\"#7201a8\"],[0.3333333333333333,\"#9c179e\"],[0.4444444444444444,\"#bd3786\"],[0.5555555555555556,\"#d8576b\"],[0.6666666666666666,\"#ed7953\"],[0.7777777777777778,\"#fb9f3a\"],[0.8888888888888888,\"#fdca26\"],[1.0,\"#f0f921\"]]},\"colorway\":[\"#636efa\",\"#EF553B\",\"#00cc96\",\"#ab63fa\",\"#FFA15A\",\"#19d3f3\",\"#FF6692\",\"#B6E880\",\"#FF97FF\",\"#FECB52\"],\"font\":{\"color\":\"#2a3f5f\"},\"geo\":{\"bgcolor\":\"white\",\"lakecolor\":\"white\",\"landcolor\":\"#E5ECF6\",\"showlakes\":true,\"showland\":true,\"subunitcolor\":\"white\"},\"hoverlabel\":{\"align\":\"left\"},\"hovermode\":\"closest\",\"mapbox\":{\"style\":\"light\"},\"paper_bgcolor\":\"white\",\"plot_bgcolor\":\"#E5ECF6\",\"polar\":{\"angularaxis\":{\"gridcolor\":\"white\",\"linecolor\":\"white\",\"ticks\":\"\"},\"bgcolor\":\"#E5ECF6\",\"radialaxis\":{\"gridcolor\":\"white\",\"linecolor\":\"white\",\"ticks\":\"\"}},\"scene\":{\"xaxis\":{\"backgroundcolor\":\"#E5ECF6\",\"gridcolor\":\"white\",\"gridwidth\":2,\"linecolor\":\"white\",\"showbackground\":true,\"ticks\":\"\",\"zerolinecolor\":\"white\"},\"yaxis\":{\"backgroundcolor\":\"#E5ECF6\",\"gridcolor\":\"white\",\"gridwidth\":2,\"linecolor\":\"white\",\"showbackground\":true,\"ticks\":\"\",\"zerolinecolor\":\"white\"},\"zaxis\":{\"backgroundcolor\":\"#E5ECF6\",\"gridcolor\":\"white\",\"gridwidth\":2,\"linecolor\":\"white\",\"showbackground\":true,\"ticks\":\"\",\"zerolinecolor\":\"white\"}},\"shapedefaults\":{\"line\":{\"color\":\"#2a3f5f\"}},\"ternary\":{\"aaxis\":{\"gridcolor\":\"white\",\"linecolor\":\"white\",\"ticks\":\"\"},\"baxis\":{\"gridcolor\":\"white\",\"linecolor\":\"white\",\"ticks\":\"\"},\"bgcolor\":\"#E5ECF6\",\"caxis\":{\"gridcolor\":\"white\",\"linecolor\":\"white\",\"ticks\":\"\"}},\"title\":{\"x\":0.05},\"xaxis\":{\"automargin\":true,\"gridcolor\":\"white\",\"linecolor\":\"white\",\"ticks\":\"\",\"title\":{\"standoff\":15},\"zerolinecolor\":\"white\",\"zerolinewidth\":2},\"yaxis\":{\"automargin\":true,\"gridcolor\":\"white\",\"linecolor\":\"white\",\"ticks\":\"\",\"title\":{\"standoff\":15},\"zerolinecolor\":\"white\",\"zerolinewidth\":2}}},\"mapbox\":{\"domain\":{\"x\":[0.0,1.0],\"y\":[0.0,1.0]},\"center\":{\"lat\":-3.99313,\"lon\":-79.20422},\"zoom\":10.5,\"style\":\"open-street-map\"},\"coloraxis\":{\"colorscale\":[[0.0,\"#0d0887\"],[0.1111111111111111,\"#46039f\"],[0.2222222222222222,\"#7201a8\"],[0.3333333333333333,\"#9c179e\"],[0.4444444444444444,\"#bd3786\"],[0.5555555555555556,\"#d8576b\"],[0.6666666666666666,\"#ed7953\"],[0.7777777777777778,\"#fb9f3a\"],[0.8888888888888888,\"#fdca26\"],[1.0,\"#f0f921\"]]},\"legend\":{\"tracegroupgap\":0},\"margin\":{\"t\":60}},                        {\"responsive\": true}                    ).then(function(){\n",
              "                            \n",
              "var gd = document.getElementById('61d30e50-5900-4408-aad3-8c4de6b4bd45');\n",
              "var x = new MutationObserver(function (mutations, observer) {{\n",
              "        var display = window.getComputedStyle(gd).display;\n",
              "        if (!display || display === 'none') {{\n",
              "            console.log([gd, 'removed!']);\n",
              "            Plotly.purge(gd);\n",
              "            observer.disconnect();\n",
              "        }}\n",
              "}});\n",
              "\n",
              "// Listen for the removal of the full notebook cells\n",
              "var notebookContainer = gd.closest('#notebook-container');\n",
              "if (notebookContainer) {{\n",
              "    x.observe(notebookContainer, {childList: true});\n",
              "}}\n",
              "\n",
              "// Listen for the clearing of the current output cell\n",
              "var outputEl = gd.closest('.output');\n",
              "if (outputEl) {{\n",
              "    x.observe(outputEl, {childList: true});\n",
              "}}\n",
              "\n",
              "                        })                };                            </script>        </div>\n",
              "</body>\n",
              "</html>"
            ]
          },
          "metadata": {}
        }
      ]
    },
    {
      "cell_type": "code",
      "source": [
        "#verifico datos nulos\n",
        "df.isnull().sum()"
      ],
      "metadata": {
        "colab": {
          "base_uri": "https://localhost:8080/"
        },
        "id": "E8piPBICnowr",
        "outputId": "f2ecb678-4076-4c8b-c40b-802c34dc3a27"
      },
      "execution_count": 3,
      "outputs": [
        {
          "output_type": "execute_result",
          "data": {
            "text/plain": [
              "fecha                     0\n",
              "dia                       0\n",
              "hora                      0\n",
              "latitud                   1\n",
              "longitud                  1\n",
              "tipologia                 0\n",
              "direccion                 0\n",
              "zona                      0\n",
              "parroquia_urbana          0\n",
              "causas                    0\n",
              "gravedad                  0\n",
              "nro_heridos               0\n",
              "nro_fallecidos            0\n",
              "vehiculos_retenidos       0\n",
              "senalizacion_existente    0\n",
              "condicion_calzada         0\n",
              "condicion_atmosferica     0\n",
              "dtype: int64"
            ]
          },
          "metadata": {},
          "execution_count": 3
        }
      ]
    },
    {
      "cell_type": "code",
      "source": [
        "df=df.loc[:,df.columns!=\"fecha\"]\n",
        "df=df.loc[:,df.columns!=\"zona\"]\n",
        "df=df.loc[:,df.columns!=\"latitud\"]\n",
        "df=df.loc[:,df.columns!=\"longitud\"]\n",
        "df=df.loc[:,df.columns!=\"direccion\"]\n",
        "df=df.loc[:,df.columns!=\"gravedad\"]\n",
        "df=df.loc[:,df.columns!=\"vehiculos_retenidos\"]\n",
        "df=df.loc[:,df.columns!=\"senalizacion_existente\"]\n",
        "df=df.loc[:,df.columns!=\"condicion_calzada\"]\n",
        "df=df.loc[:,df.columns!=\"condicion_atmosferica\"]"
      ],
      "metadata": {
        "id": "O_tfOlwzlAc4"
      },
      "execution_count": 4,
      "outputs": []
    },
    {
      "cell_type": "code",
      "source": [
        "df.isnull().sum()"
      ],
      "metadata": {
        "id": "o7vaXvJAwsW3",
        "colab": {
          "base_uri": "https://localhost:8080/"
        },
        "outputId": "e23d43ef-7897-4b58-f8bb-389995c542d4"
      },
      "execution_count": 5,
      "outputs": [
        {
          "output_type": "execute_result",
          "data": {
            "text/plain": [
              "dia                 0\n",
              "hora                0\n",
              "tipologia           0\n",
              "parroquia_urbana    0\n",
              "causas              0\n",
              "nro_heridos         0\n",
              "nro_fallecidos      0\n",
              "dtype: int64"
            ]
          },
          "metadata": {},
          "execution_count": 5
        }
      ]
    },
    {
      "cell_type": "code",
      "source": [
        "df.sample(10)"
      ],
      "metadata": {
        "id": "WxOoBT4UNzQt",
        "colab": {
          "base_uri": "https://localhost:8080/",
          "height": 363
        },
        "outputId": "8950104c-e125-4393-8f87-8cb794a0501e"
      },
      "execution_count": 6,
      "outputs": [
        {
          "output_type": "execute_result",
          "data": {
            "text/plain": [
              "           dia hora                     tipologia parroquia_urbana  \\\n",
              "353  miercoles  h13  choque lateral perpendicular            sucre   \n",
              "219      lunes  h21  choque lateral perpendicular      el sagrario   \n",
              "287    viernes  h20        choque lateral angular            sucre   \n",
              "140     sabado  h12                estrellamiento            sucre   \n",
              "67       lunes  h05  choque lateral perpendicular    san sebastian   \n",
              "293     sabado  h06                estrellamiento          punzara   \n",
              "110     martes  h22                estrellamiento            sucre   \n",
              "236  miercoles  h08                 roce negativo          punzara   \n",
              "298     martes  h13                estrellamiento            sucre   \n",
              "263     jueves  h10        choque lateral angular            sucre   \n",
              "\n",
              "                               causas  nro_heridos  nro_fallecidos  \n",
              "353         imprudencia del conductor            0               0  \n",
              "219         imprudencia del conductor            2               0  \n",
              "287  conducir en estado de embriaguez            1               0  \n",
              "140         imprudencia del conductor            0               0  \n",
              "67          imprudencia del conductor            2               0  \n",
              "293         imprudencia del conductor            1               0  \n",
              "110   conducir en exceso de velocidad            0               0  \n",
              "236         imprudencia del conductor            1               0  \n",
              "298   conducir en exceso de velocidad            7               0  \n",
              "263         imprudencia del conductor            0               0  "
            ],
            "text/html": [
              "\n",
              "  <div id=\"df-87e4efb6-3757-4b18-ab70-42a871ae6787\">\n",
              "    <div class=\"colab-df-container\">\n",
              "      <div>\n",
              "<style scoped>\n",
              "    .dataframe tbody tr th:only-of-type {\n",
              "        vertical-align: middle;\n",
              "    }\n",
              "\n",
              "    .dataframe tbody tr th {\n",
              "        vertical-align: top;\n",
              "    }\n",
              "\n",
              "    .dataframe thead th {\n",
              "        text-align: right;\n",
              "    }\n",
              "</style>\n",
              "<table border=\"1\" class=\"dataframe\">\n",
              "  <thead>\n",
              "    <tr style=\"text-align: right;\">\n",
              "      <th></th>\n",
              "      <th>dia</th>\n",
              "      <th>hora</th>\n",
              "      <th>tipologia</th>\n",
              "      <th>parroquia_urbana</th>\n",
              "      <th>causas</th>\n",
              "      <th>nro_heridos</th>\n",
              "      <th>nro_fallecidos</th>\n",
              "    </tr>\n",
              "  </thead>\n",
              "  <tbody>\n",
              "    <tr>\n",
              "      <th>353</th>\n",
              "      <td>miercoles</td>\n",
              "      <td>h13</td>\n",
              "      <td>choque lateral perpendicular</td>\n",
              "      <td>sucre</td>\n",
              "      <td>imprudencia del conductor</td>\n",
              "      <td>0</td>\n",
              "      <td>0</td>\n",
              "    </tr>\n",
              "    <tr>\n",
              "      <th>219</th>\n",
              "      <td>lunes</td>\n",
              "      <td>h21</td>\n",
              "      <td>choque lateral perpendicular</td>\n",
              "      <td>el sagrario</td>\n",
              "      <td>imprudencia del conductor</td>\n",
              "      <td>2</td>\n",
              "      <td>0</td>\n",
              "    </tr>\n",
              "    <tr>\n",
              "      <th>287</th>\n",
              "      <td>viernes</td>\n",
              "      <td>h20</td>\n",
              "      <td>choque lateral angular</td>\n",
              "      <td>sucre</td>\n",
              "      <td>conducir en estado de embriaguez</td>\n",
              "      <td>1</td>\n",
              "      <td>0</td>\n",
              "    </tr>\n",
              "    <tr>\n",
              "      <th>140</th>\n",
              "      <td>sabado</td>\n",
              "      <td>h12</td>\n",
              "      <td>estrellamiento</td>\n",
              "      <td>sucre</td>\n",
              "      <td>imprudencia del conductor</td>\n",
              "      <td>0</td>\n",
              "      <td>0</td>\n",
              "    </tr>\n",
              "    <tr>\n",
              "      <th>67</th>\n",
              "      <td>lunes</td>\n",
              "      <td>h05</td>\n",
              "      <td>choque lateral perpendicular</td>\n",
              "      <td>san sebastian</td>\n",
              "      <td>imprudencia del conductor</td>\n",
              "      <td>2</td>\n",
              "      <td>0</td>\n",
              "    </tr>\n",
              "    <tr>\n",
              "      <th>293</th>\n",
              "      <td>sabado</td>\n",
              "      <td>h06</td>\n",
              "      <td>estrellamiento</td>\n",
              "      <td>punzara</td>\n",
              "      <td>imprudencia del conductor</td>\n",
              "      <td>1</td>\n",
              "      <td>0</td>\n",
              "    </tr>\n",
              "    <tr>\n",
              "      <th>110</th>\n",
              "      <td>martes</td>\n",
              "      <td>h22</td>\n",
              "      <td>estrellamiento</td>\n",
              "      <td>sucre</td>\n",
              "      <td>conducir en exceso de velocidad</td>\n",
              "      <td>0</td>\n",
              "      <td>0</td>\n",
              "    </tr>\n",
              "    <tr>\n",
              "      <th>236</th>\n",
              "      <td>miercoles</td>\n",
              "      <td>h08</td>\n",
              "      <td>roce negativo</td>\n",
              "      <td>punzara</td>\n",
              "      <td>imprudencia del conductor</td>\n",
              "      <td>1</td>\n",
              "      <td>0</td>\n",
              "    </tr>\n",
              "    <tr>\n",
              "      <th>298</th>\n",
              "      <td>martes</td>\n",
              "      <td>h13</td>\n",
              "      <td>estrellamiento</td>\n",
              "      <td>sucre</td>\n",
              "      <td>conducir en exceso de velocidad</td>\n",
              "      <td>7</td>\n",
              "      <td>0</td>\n",
              "    </tr>\n",
              "    <tr>\n",
              "      <th>263</th>\n",
              "      <td>jueves</td>\n",
              "      <td>h10</td>\n",
              "      <td>choque lateral angular</td>\n",
              "      <td>sucre</td>\n",
              "      <td>imprudencia del conductor</td>\n",
              "      <td>0</td>\n",
              "      <td>0</td>\n",
              "    </tr>\n",
              "  </tbody>\n",
              "</table>\n",
              "</div>\n",
              "      <button class=\"colab-df-convert\" onclick=\"convertToInteractive('df-87e4efb6-3757-4b18-ab70-42a871ae6787')\"\n",
              "              title=\"Convert this dataframe to an interactive table.\"\n",
              "              style=\"display:none;\">\n",
              "        \n",
              "  <svg xmlns=\"http://www.w3.org/2000/svg\" height=\"24px\"viewBox=\"0 0 24 24\"\n",
              "       width=\"24px\">\n",
              "    <path d=\"M0 0h24v24H0V0z\" fill=\"none\"/>\n",
              "    <path d=\"M18.56 5.44l.94 2.06.94-2.06 2.06-.94-2.06-.94-.94-2.06-.94 2.06-2.06.94zm-11 1L8.5 8.5l.94-2.06 2.06-.94-2.06-.94L8.5 2.5l-.94 2.06-2.06.94zm10 10l.94 2.06.94-2.06 2.06-.94-2.06-.94-.94-2.06-.94 2.06-2.06.94z\"/><path d=\"M17.41 7.96l-1.37-1.37c-.4-.4-.92-.59-1.43-.59-.52 0-1.04.2-1.43.59L10.3 9.45l-7.72 7.72c-.78.78-.78 2.05 0 2.83L4 21.41c.39.39.9.59 1.41.59.51 0 1.02-.2 1.41-.59l7.78-7.78 2.81-2.81c.8-.78.8-2.07 0-2.86zM5.41 20L4 18.59l7.72-7.72 1.47 1.35L5.41 20z\"/>\n",
              "  </svg>\n",
              "      </button>\n",
              "      \n",
              "  <style>\n",
              "    .colab-df-container {\n",
              "      display:flex;\n",
              "      flex-wrap:wrap;\n",
              "      gap: 12px;\n",
              "    }\n",
              "\n",
              "    .colab-df-convert {\n",
              "      background-color: #E8F0FE;\n",
              "      border: none;\n",
              "      border-radius: 50%;\n",
              "      cursor: pointer;\n",
              "      display: none;\n",
              "      fill: #1967D2;\n",
              "      height: 32px;\n",
              "      padding: 0 0 0 0;\n",
              "      width: 32px;\n",
              "    }\n",
              "\n",
              "    .colab-df-convert:hover {\n",
              "      background-color: #E2EBFA;\n",
              "      box-shadow: 0px 1px 2px rgba(60, 64, 67, 0.3), 0px 1px 3px 1px rgba(60, 64, 67, 0.15);\n",
              "      fill: #174EA6;\n",
              "    }\n",
              "\n",
              "    [theme=dark] .colab-df-convert {\n",
              "      background-color: #3B4455;\n",
              "      fill: #D2E3FC;\n",
              "    }\n",
              "\n",
              "    [theme=dark] .colab-df-convert:hover {\n",
              "      background-color: #434B5C;\n",
              "      box-shadow: 0px 1px 3px 1px rgba(0, 0, 0, 0.15);\n",
              "      filter: drop-shadow(0px 1px 2px rgba(0, 0, 0, 0.3));\n",
              "      fill: #FFFFFF;\n",
              "    }\n",
              "  </style>\n",
              "\n",
              "      <script>\n",
              "        const buttonEl =\n",
              "          document.querySelector('#df-87e4efb6-3757-4b18-ab70-42a871ae6787 button.colab-df-convert');\n",
              "        buttonEl.style.display =\n",
              "          google.colab.kernel.accessAllowed ? 'block' : 'none';\n",
              "\n",
              "        async function convertToInteractive(key) {\n",
              "          const element = document.querySelector('#df-87e4efb6-3757-4b18-ab70-42a871ae6787');\n",
              "          const dataTable =\n",
              "            await google.colab.kernel.invokeFunction('convertToInteractive',\n",
              "                                                     [key], {});\n",
              "          if (!dataTable) return;\n",
              "\n",
              "          const docLinkHtml = 'Like what you see? Visit the ' +\n",
              "            '<a target=\"_blank\" href=https://colab.research.google.com/notebooks/data_table.ipynb>data table notebook</a>'\n",
              "            + ' to learn more about interactive tables.';\n",
              "          element.innerHTML = '';\n",
              "          dataTable['output_type'] = 'display_data';\n",
              "          await google.colab.output.renderOutput(dataTable, element);\n",
              "          const docLink = document.createElement('div');\n",
              "          docLink.innerHTML = docLinkHtml;\n",
              "          element.appendChild(docLink);\n",
              "        }\n",
              "      </script>\n",
              "    </div>\n",
              "  </div>\n",
              "  "
            ]
          },
          "metadata": {},
          "execution_count": 6
        }
      ]
    },
    {
      "cell_type": "code",
      "source": [
        "df.head()"
      ],
      "metadata": {
        "colab": {
          "base_uri": "https://localhost:8080/",
          "height": 206
        },
        "id": "1619T33_RKEE",
        "outputId": "24c40425-2b6a-4966-9065-84cea28922ed"
      },
      "execution_count": 7,
      "outputs": [
        {
          "output_type": "execute_result",
          "data": {
            "text/plain": [
              "       dia hora                     tipologia parroquia_urbana  \\\n",
              "0  viernes  h11                estrellamiento         el valle   \n",
              "1   martes  h17  choque lateral perpendicular          punzara   \n",
              "2   martes  h12            choque por alcance            sucre   \n",
              "3  viernes  h10                     atropello            sucre   \n",
              "4   sabado  h06        choque lateral angular            sucre   \n",
              "\n",
              "                                   causas  nro_heridos  nro_fallecidos  \n",
              "0        conducir en estado de embriaguez            1               0  \n",
              "1        conducir en estado de embriaguez            1               0  \n",
              "2  no mantener la distancia reglamentaria            0               0  \n",
              "3                  imprudencia del peaton            1               0  \n",
              "4        conducir en estado de embriaguez            0               0  "
            ],
            "text/html": [
              "\n",
              "  <div id=\"df-f20944db-393a-4ec0-b55d-7a1756b4fba7\">\n",
              "    <div class=\"colab-df-container\">\n",
              "      <div>\n",
              "<style scoped>\n",
              "    .dataframe tbody tr th:only-of-type {\n",
              "        vertical-align: middle;\n",
              "    }\n",
              "\n",
              "    .dataframe tbody tr th {\n",
              "        vertical-align: top;\n",
              "    }\n",
              "\n",
              "    .dataframe thead th {\n",
              "        text-align: right;\n",
              "    }\n",
              "</style>\n",
              "<table border=\"1\" class=\"dataframe\">\n",
              "  <thead>\n",
              "    <tr style=\"text-align: right;\">\n",
              "      <th></th>\n",
              "      <th>dia</th>\n",
              "      <th>hora</th>\n",
              "      <th>tipologia</th>\n",
              "      <th>parroquia_urbana</th>\n",
              "      <th>causas</th>\n",
              "      <th>nro_heridos</th>\n",
              "      <th>nro_fallecidos</th>\n",
              "    </tr>\n",
              "  </thead>\n",
              "  <tbody>\n",
              "    <tr>\n",
              "      <th>0</th>\n",
              "      <td>viernes</td>\n",
              "      <td>h11</td>\n",
              "      <td>estrellamiento</td>\n",
              "      <td>el valle</td>\n",
              "      <td>conducir en estado de embriaguez</td>\n",
              "      <td>1</td>\n",
              "      <td>0</td>\n",
              "    </tr>\n",
              "    <tr>\n",
              "      <th>1</th>\n",
              "      <td>martes</td>\n",
              "      <td>h17</td>\n",
              "      <td>choque lateral perpendicular</td>\n",
              "      <td>punzara</td>\n",
              "      <td>conducir en estado de embriaguez</td>\n",
              "      <td>1</td>\n",
              "      <td>0</td>\n",
              "    </tr>\n",
              "    <tr>\n",
              "      <th>2</th>\n",
              "      <td>martes</td>\n",
              "      <td>h12</td>\n",
              "      <td>choque por alcance</td>\n",
              "      <td>sucre</td>\n",
              "      <td>no mantener la distancia reglamentaria</td>\n",
              "      <td>0</td>\n",
              "      <td>0</td>\n",
              "    </tr>\n",
              "    <tr>\n",
              "      <th>3</th>\n",
              "      <td>viernes</td>\n",
              "      <td>h10</td>\n",
              "      <td>atropello</td>\n",
              "      <td>sucre</td>\n",
              "      <td>imprudencia del peaton</td>\n",
              "      <td>1</td>\n",
              "      <td>0</td>\n",
              "    </tr>\n",
              "    <tr>\n",
              "      <th>4</th>\n",
              "      <td>sabado</td>\n",
              "      <td>h06</td>\n",
              "      <td>choque lateral angular</td>\n",
              "      <td>sucre</td>\n",
              "      <td>conducir en estado de embriaguez</td>\n",
              "      <td>0</td>\n",
              "      <td>0</td>\n",
              "    </tr>\n",
              "  </tbody>\n",
              "</table>\n",
              "</div>\n",
              "      <button class=\"colab-df-convert\" onclick=\"convertToInteractive('df-f20944db-393a-4ec0-b55d-7a1756b4fba7')\"\n",
              "              title=\"Convert this dataframe to an interactive table.\"\n",
              "              style=\"display:none;\">\n",
              "        \n",
              "  <svg xmlns=\"http://www.w3.org/2000/svg\" height=\"24px\"viewBox=\"0 0 24 24\"\n",
              "       width=\"24px\">\n",
              "    <path d=\"M0 0h24v24H0V0z\" fill=\"none\"/>\n",
              "    <path d=\"M18.56 5.44l.94 2.06.94-2.06 2.06-.94-2.06-.94-.94-2.06-.94 2.06-2.06.94zm-11 1L8.5 8.5l.94-2.06 2.06-.94-2.06-.94L8.5 2.5l-.94 2.06-2.06.94zm10 10l.94 2.06.94-2.06 2.06-.94-2.06-.94-.94-2.06-.94 2.06-2.06.94z\"/><path d=\"M17.41 7.96l-1.37-1.37c-.4-.4-.92-.59-1.43-.59-.52 0-1.04.2-1.43.59L10.3 9.45l-7.72 7.72c-.78.78-.78 2.05 0 2.83L4 21.41c.39.39.9.59 1.41.59.51 0 1.02-.2 1.41-.59l7.78-7.78 2.81-2.81c.8-.78.8-2.07 0-2.86zM5.41 20L4 18.59l7.72-7.72 1.47 1.35L5.41 20z\"/>\n",
              "  </svg>\n",
              "      </button>\n",
              "      \n",
              "  <style>\n",
              "    .colab-df-container {\n",
              "      display:flex;\n",
              "      flex-wrap:wrap;\n",
              "      gap: 12px;\n",
              "    }\n",
              "\n",
              "    .colab-df-convert {\n",
              "      background-color: #E8F0FE;\n",
              "      border: none;\n",
              "      border-radius: 50%;\n",
              "      cursor: pointer;\n",
              "      display: none;\n",
              "      fill: #1967D2;\n",
              "      height: 32px;\n",
              "      padding: 0 0 0 0;\n",
              "      width: 32px;\n",
              "    }\n",
              "\n",
              "    .colab-df-convert:hover {\n",
              "      background-color: #E2EBFA;\n",
              "      box-shadow: 0px 1px 2px rgba(60, 64, 67, 0.3), 0px 1px 3px 1px rgba(60, 64, 67, 0.15);\n",
              "      fill: #174EA6;\n",
              "    }\n",
              "\n",
              "    [theme=dark] .colab-df-convert {\n",
              "      background-color: #3B4455;\n",
              "      fill: #D2E3FC;\n",
              "    }\n",
              "\n",
              "    [theme=dark] .colab-df-convert:hover {\n",
              "      background-color: #434B5C;\n",
              "      box-shadow: 0px 1px 3px 1px rgba(0, 0, 0, 0.15);\n",
              "      filter: drop-shadow(0px 1px 2px rgba(0, 0, 0, 0.3));\n",
              "      fill: #FFFFFF;\n",
              "    }\n",
              "  </style>\n",
              "\n",
              "      <script>\n",
              "        const buttonEl =\n",
              "          document.querySelector('#df-f20944db-393a-4ec0-b55d-7a1756b4fba7 button.colab-df-convert');\n",
              "        buttonEl.style.display =\n",
              "          google.colab.kernel.accessAllowed ? 'block' : 'none';\n",
              "\n",
              "        async function convertToInteractive(key) {\n",
              "          const element = document.querySelector('#df-f20944db-393a-4ec0-b55d-7a1756b4fba7');\n",
              "          const dataTable =\n",
              "            await google.colab.kernel.invokeFunction('convertToInteractive',\n",
              "                                                     [key], {});\n",
              "          if (!dataTable) return;\n",
              "\n",
              "          const docLinkHtml = 'Like what you see? Visit the ' +\n",
              "            '<a target=\"_blank\" href=https://colab.research.google.com/notebooks/data_table.ipynb>data table notebook</a>'\n",
              "            + ' to learn more about interactive tables.';\n",
              "          element.innerHTML = '';\n",
              "          dataTable['output_type'] = 'display_data';\n",
              "          await google.colab.output.renderOutput(dataTable, element);\n",
              "          const docLink = document.createElement('div');\n",
              "          docLink.innerHTML = docLinkHtml;\n",
              "          element.appendChild(docLink);\n",
              "        }\n",
              "      </script>\n",
              "    </div>\n",
              "  </div>\n",
              "  "
            ]
          },
          "metadata": {},
          "execution_count": 7
        }
      ]
    },
    {
      "cell_type": "code",
      "source": [
        "ds=pd.DataFrame(df)\n",
        "#Presenta el numero de filas\n",
        "print(\"El numero de filas(observaciones) es: \",ds.shape[0])\n",
        "\n",
        "#Presenta el numero de columnas\n",
        "print(\"El numero de columnas(variables) es: \",len(ds.columns))"
      ],
      "metadata": {
        "id": "opp5YQdwqE58",
        "colab": {
          "base_uri": "https://localhost:8080/"
        },
        "outputId": "6747e8f9-d681-4c77-fe16-f5ad1648a4e7"
      },
      "execution_count": 8,
      "outputs": [
        {
          "output_type": "stream",
          "name": "stdout",
          "text": [
            "El numero de filas(observaciones) es:  370\n",
            "El numero de columnas(variables) es:  7\n"
          ]
        }
      ]
    },
    {
      "cell_type": "code",
      "source": [
        "# tipos de la variables\n",
        "ds.dtypes"
      ],
      "metadata": {
        "id": "dwGSc1hkqvCC",
        "colab": {
          "base_uri": "https://localhost:8080/"
        },
        "outputId": "6b655496-88b1-4ab2-8aa2-3562f86a2c60"
      },
      "execution_count": 9,
      "outputs": [
        {
          "output_type": "execute_result",
          "data": {
            "text/plain": [
              "dia                 object\n",
              "hora                object\n",
              "tipologia           object\n",
              "parroquia_urbana    object\n",
              "causas              object\n",
              "nro_heridos          int64\n",
              "nro_fallecidos       int64\n",
              "dtype: object"
            ]
          },
          "metadata": {},
          "execution_count": 9
        }
      ]
    },
    {
      "cell_type": "code",
      "source": [
        "df.shape[0]"
      ],
      "metadata": {
        "colab": {
          "base_uri": "https://localhost:8080/"
        },
        "id": "lIhqJEG4zLn4",
        "outputId": "5febe586-567c-496c-efc5-3e878db65131"
      },
      "execution_count": 10,
      "outputs": [
        {
          "output_type": "execute_result",
          "data": {
            "text/plain": [
              "370"
            ]
          },
          "metadata": {},
          "execution_count": 10
        }
      ]
    },
    {
      "cell_type": "code",
      "source": [
        "df['causas'].value_counts()"
      ],
      "metadata": {
        "id": "GxyLlgzIn3zp",
        "colab": {
          "base_uri": "https://localhost:8080/"
        },
        "outputId": "d1f9f267-4138-465d-a961-16ad5ddf3edd"
      },
      "execution_count": 11,
      "outputs": [
        {
          "output_type": "execute_result",
          "data": {
            "text/plain": [
              "imprudencia del conductor                 161\n",
              "conducir en estado de embriaguez           88\n",
              "conducir en exceso de velocidad            75\n",
              "imprudencia del peaton                     15\n",
              "no respetar las senales de transito        15\n",
              "fallas mecanicas no previsibles             6\n",
              "no mantener la distancia reglamentaria      2\n",
              "condiciones climaticas desfavorables        2\n",
              "no ceder el derecho de via                  2\n",
              "impericia del conductor                     2\n",
              "cruce de animales en la via                 2\n",
              "Name: causas, dtype: int64"
            ]
          },
          "metadata": {},
          "execution_count": 11
        }
      ]
    },
    {
      "cell_type": "code",
      "source": [
        "print(df['causas'].unique())# datos en texto"
      ],
      "metadata": {
        "id": "W9xYRDcbRTtH",
        "colab": {
          "base_uri": "https://localhost:8080/"
        },
        "outputId": "6eb1bb74-d097-4fc7-daed-4c9800a92de5"
      },
      "execution_count": 12,
      "outputs": [
        {
          "output_type": "stream",
          "name": "stdout",
          "text": [
            "['conducir en estado de embriaguez'\n",
            " 'no mantener la distancia reglamentaria' 'imprudencia del peaton'\n",
            " 'conducir en exceso de velocidad' 'no respetar las senales de transito'\n",
            " 'condiciones climaticas desfavorables' 'no ceder el derecho de via'\n",
            " 'impericia del conductor' 'imprudencia del conductor'\n",
            " 'fallas mecanicas no previsibles' 'cruce de animales en la via']\n"
          ]
        }
      ]
    },
    {
      "cell_type": "code",
      "source": [
        "print(df['causas'].unique())# datos en texto"
      ],
      "metadata": {
        "id": "az9j4Z5zXhOx",
        "colab": {
          "base_uri": "https://localhost:8080/"
        },
        "outputId": "8f1e0581-8004-4843-d4d7-5dbd12f86bd1"
      },
      "execution_count": 13,
      "outputs": [
        {
          "output_type": "stream",
          "name": "stdout",
          "text": [
            "['conducir en estado de embriaguez'\n",
            " 'no mantener la distancia reglamentaria' 'imprudencia del peaton'\n",
            " 'conducir en exceso de velocidad' 'no respetar las senales de transito'\n",
            " 'condiciones climaticas desfavorables' 'no ceder el derecho de via'\n",
            " 'impericia del conductor' 'imprudencia del conductor'\n",
            " 'fallas mecanicas no previsibles' 'cruce de animales en la via']\n"
          ]
        }
      ]
    },
    {
      "cell_type": "markdown",
      "source": [
        "Transformamos los datos a numéricos"
      ],
      "metadata": {
        "id": "2TsA-vY8AD0E"
      }
    },
    {
      "cell_type": "code",
      "source": [
        "df['causas']= df['causas'].apply(lambda x: \n",
        "                                    1 if x == 'conducir en estado de embriaguez' else \n",
        "                                    2 if x == 'imprudencia del conductor' else \n",
        "                                    3 if x == 'no ceder el derecho de via' else\n",
        "                                    4 if x == 'conducir en exceso de velocidad' else \n",
        "                                    5 if x == 'cambio brusco e indebido de carril' else\n",
        "                                    6 if x == 'fallas mecanicas no previsibles' else\n",
        "                                    7 if x == 'no respetar las senales de transito' else\n",
        "                                    8 if x == 'invadir carril de circulacion' else\n",
        "                                    9 if x == 'imprudencia del peaton' else\n",
        "                                    10 if x == 'no mantener la distancia reglamentaria' else\n",
        "                                    11 if x == 'razones desconocidas' else\n",
        "                                    12 if x == 'condiciones climaticas desfavorables' else\n",
        "                                    13 if x == 'negligencia del conductor' else\n",
        "                                    14 if x == 'no respetar las ordenes del agente de transito' else\n",
        "                                    15 if x == 'impericia del conductor' else\n",
        "                                    16)\n"
      ],
      "metadata": {
        "id": "XTXif1_rPk45"
      },
      "execution_count": 14,
      "outputs": []
    },
    {
      "cell_type": "code",
      "source": [
        "print(df['parroquia_urbana'].unique()) # datos convertidos a numeros enteros"
      ],
      "metadata": {
        "id": "ilIV9JwwQ67H",
        "colab": {
          "base_uri": "https://localhost:8080/"
        },
        "outputId": "251325b9-9b5d-4fdb-dc00-ba263a00a2f1"
      },
      "execution_count": 15,
      "outputs": [
        {
          "output_type": "stream",
          "name": "stdout",
          "text": [
            "['el valle' 'punzara' 'sucre' 'san sebastian' 'carigan' 'el sagrario']\n"
          ]
        }
      ]
    },
    {
      "cell_type": "code",
      "source": [
        "df['parroquia_urbana']= df['parroquia_urbana'].apply(lambda x: \n",
        "                                    1 if x == 'el sagrario' else \n",
        "                                    2 if x == 'san sebastian' else \n",
        "                                    3 if x == 'el valle' else\n",
        "                                    4 if x == 'sucre' else \n",
        "                                    5 if x == 'punzara' else\n",
        "                                    6 if x == 'carigan' else\n",
        "                                    7)"
      ],
      "metadata": {
        "id": "KBH39v_gRfzm"
      },
      "execution_count": 16,
      "outputs": []
    },
    {
      "cell_type": "code",
      "source": [
        "print(df['parroquia_urbana'].unique()) # datos convertidos a numeros enteros"
      ],
      "metadata": {
        "id": "jqwp16JWYhoM",
        "colab": {
          "base_uri": "https://localhost:8080/"
        },
        "outputId": "5f20b545-1657-403f-97db-996278ecd381"
      },
      "execution_count": 17,
      "outputs": [
        {
          "output_type": "stream",
          "name": "stdout",
          "text": [
            "[3 5 4 2 6 1]\n"
          ]
        }
      ]
    },
    {
      "cell_type": "code",
      "source": [
        "print(df['tipologia'].unique()) # datos convertidos a numeros enteros"
      ],
      "metadata": {
        "id": "o7gmAPUUZLBv",
        "colab": {
          "base_uri": "https://localhost:8080/"
        },
        "outputId": "e1f7a495-eca7-4931-d32d-6add21b5febc"
      },
      "execution_count": 18,
      "outputs": [
        {
          "output_type": "stream",
          "name": "stdout",
          "text": [
            "['estrellamiento' 'choque lateral perpendicular' 'choque por alcance'\n",
            " 'atropello' 'choque lateral angular' 'roce negativo' 'perdida de carril'\n",
            " 'perdida de pista' 'choque frontal excentrico' 'colision' 'atipico'\n",
            " 'arrollamiento' 'volcamiento' 'roce positivo' 'rozamiento'\n",
            " 'caida de pasajero']\n"
          ]
        }
      ]
    },
    {
      "cell_type": "code",
      "source": [
        "df['tipologia']= df['tipologia'].apply(lambda x: \n",
        "                                    1 if x == 'arrollamiento' else \n",
        "                                    2 if x == 'atipico' else \n",
        "                                    3 if x == 'atropello' else\n",
        "                                    4 if x == 'caida de pasajero' else \n",
        "                                    5 if x == 'choque frontal' else\n",
        "                                    6 if x == 'choque frontal excentrico' else\n",
        "                                    7 if x == 'choque frontal longitudinal' else\n",
        "                                    8 if x == 'choque lateral angular' else\n",
        "                                    9 if x == 'choque lateral perpendicular' else\n",
        "                                    10 if x == 'choque por alcance' else\n",
        "                                    11 if x == 'colision' else\n",
        "                                    12 if x == 'encunetamiento' else\n",
        "                                    13 if x == 'estrellamiento' else\n",
        "                                    14 if x == 'perdida de carril' else\n",
        "                                    15 if x == 'perdida de pista' else\n",
        "                                    16 if x == 'roce negativo' else\n",
        "                                    17 if x == 'roce positivo' else\n",
        "                                    18 if x == 'rozamiento' else\n",
        "                                    19 if x == 'volcamiento' else\n",
        "                                    20 if x == 'volcamiento lateral' else\n",
        "                                    21)"
      ],
      "metadata": {
        "id": "L7TgEU46iKzl"
      },
      "execution_count": 19,
      "outputs": []
    },
    {
      "cell_type": "code",
      "source": [
        "print(df['tipologia'].unique()) # datos convertidos a numeros enteros"
      ],
      "metadata": {
        "id": "rfdXDyNpjsfI",
        "colab": {
          "base_uri": "https://localhost:8080/"
        },
        "outputId": "fd3f9d3c-3e4c-4e00-b1cd-165e10e1afc7"
      },
      "execution_count": 20,
      "outputs": [
        {
          "output_type": "stream",
          "name": "stdout",
          "text": [
            "[13  9 10  3  8 16 14 15  6 11  2  1 19 17 18  4]\n"
          ]
        }
      ]
    },
    {
      "cell_type": "code",
      "source": [
        "df['dia']= df['dia'].apply(lambda x: \n",
        "                                    1 if x == 'lunes' else \n",
        "                                    2 if x == 'martes' else \n",
        "                                    3 if x == 'miercoles' else\n",
        "                                    4 if x == 'jueves' else \n",
        "                                    5 if x == 'viernes' else\n",
        "                                    6 if x == 'sabado' else\n",
        "                                    7 )"
      ],
      "metadata": {
        "id": "sDjBZz1026bn"
      },
      "execution_count": 21,
      "outputs": []
    },
    {
      "cell_type": "code",
      "source": [
        "print(df['dia'].unique()) # datos convertidos a numeros enteros"
      ],
      "metadata": {
        "colab": {
          "base_uri": "https://localhost:8080/"
        },
        "id": "s7ruL01p3o5F",
        "outputId": "ae01176c-b94d-47af-9862-194b08c551ed"
      },
      "execution_count": 22,
      "outputs": [
        {
          "output_type": "stream",
          "name": "stdout",
          "text": [
            "[5 2 6 7 1 4 3]\n"
          ]
        }
      ]
    },
    {
      "cell_type": "code",
      "source": [
        "df= df[df['parroquia_urbana'] <= 6]"
      ],
      "metadata": {
        "id": "0rJkAmkImrgr"
      },
      "execution_count": 23,
      "outputs": []
    },
    {
      "cell_type": "code",
      "source": [
        "df['hora']= df['hora'].apply(lambda x: \n",
        "                                    0 if x == 'h00' else\n",
        "                                    0 if x == 'h01' else \n",
        "                                    0 if x == 'h02' else \n",
        "                                    0 if x == 'h03' else\n",
        "                                    0 if x == 'h04' else \n",
        "                                    0 if x == 'h05' else\n",
        "                                    1 if x == 'h06' else\n",
        "                                    1 if x == 'h07' else\n",
        "                                    1 if x == 'h08' else\n",
        "                                    1 if x == 'h09' else\n",
        "                                    1 if x == 'h10' else\n",
        "                                    1 if x == 'h11' else\n",
        "                                    2 if x == 'h12' else\n",
        "                                    2 if x == 'h13' else\n",
        "                                    2 if x == 'h14' else\n",
        "                                    2 if x == 'h15' else\n",
        "                                    2 if x == 'h16' else\n",
        "                                    2 if x == 'h17' else\n",
        "                                    3 if x == 'h18' else\n",
        "                                    3 if x == 'h19' else\n",
        "                                    3 if x == 'h20' else\n",
        "                                    3 if x == 'h21' else\n",
        "                                    3 if x == 'h22' else\n",
        "                                    3)"
      ],
      "metadata": {
        "id": "cbsPjeT8MfGR"
      },
      "execution_count": 24,
      "outputs": []
    },
    {
      "cell_type": "code",
      "source": [
        "df.head()"
      ],
      "metadata": {
        "colab": {
          "base_uri": "https://localhost:8080/",
          "height": 206
        },
        "id": "zrvEkbGaRVQs",
        "outputId": "3e6266b8-f5ec-440d-8ab8-891a2dc67895"
      },
      "execution_count": 25,
      "outputs": [
        {
          "output_type": "execute_result",
          "data": {
            "text/plain": [
              "   dia  hora  tipologia  parroquia_urbana  causas  nro_heridos  nro_fallecidos\n",
              "0    5     1         13                 3       1            1               0\n",
              "1    2     2          9                 5       1            1               0\n",
              "2    2     2         10                 4      10            0               0\n",
              "3    5     1          3                 4       9            1               0\n",
              "4    6     1          8                 4       1            0               0"
            ],
            "text/html": [
              "\n",
              "  <div id=\"df-1fdd42ce-f370-4a02-b6c5-d1c0a7d835cd\">\n",
              "    <div class=\"colab-df-container\">\n",
              "      <div>\n",
              "<style scoped>\n",
              "    .dataframe tbody tr th:only-of-type {\n",
              "        vertical-align: middle;\n",
              "    }\n",
              "\n",
              "    .dataframe tbody tr th {\n",
              "        vertical-align: top;\n",
              "    }\n",
              "\n",
              "    .dataframe thead th {\n",
              "        text-align: right;\n",
              "    }\n",
              "</style>\n",
              "<table border=\"1\" class=\"dataframe\">\n",
              "  <thead>\n",
              "    <tr style=\"text-align: right;\">\n",
              "      <th></th>\n",
              "      <th>dia</th>\n",
              "      <th>hora</th>\n",
              "      <th>tipologia</th>\n",
              "      <th>parroquia_urbana</th>\n",
              "      <th>causas</th>\n",
              "      <th>nro_heridos</th>\n",
              "      <th>nro_fallecidos</th>\n",
              "    </tr>\n",
              "  </thead>\n",
              "  <tbody>\n",
              "    <tr>\n",
              "      <th>0</th>\n",
              "      <td>5</td>\n",
              "      <td>1</td>\n",
              "      <td>13</td>\n",
              "      <td>3</td>\n",
              "      <td>1</td>\n",
              "      <td>1</td>\n",
              "      <td>0</td>\n",
              "    </tr>\n",
              "    <tr>\n",
              "      <th>1</th>\n",
              "      <td>2</td>\n",
              "      <td>2</td>\n",
              "      <td>9</td>\n",
              "      <td>5</td>\n",
              "      <td>1</td>\n",
              "      <td>1</td>\n",
              "      <td>0</td>\n",
              "    </tr>\n",
              "    <tr>\n",
              "      <th>2</th>\n",
              "      <td>2</td>\n",
              "      <td>2</td>\n",
              "      <td>10</td>\n",
              "      <td>4</td>\n",
              "      <td>10</td>\n",
              "      <td>0</td>\n",
              "      <td>0</td>\n",
              "    </tr>\n",
              "    <tr>\n",
              "      <th>3</th>\n",
              "      <td>5</td>\n",
              "      <td>1</td>\n",
              "      <td>3</td>\n",
              "      <td>4</td>\n",
              "      <td>9</td>\n",
              "      <td>1</td>\n",
              "      <td>0</td>\n",
              "    </tr>\n",
              "    <tr>\n",
              "      <th>4</th>\n",
              "      <td>6</td>\n",
              "      <td>1</td>\n",
              "      <td>8</td>\n",
              "      <td>4</td>\n",
              "      <td>1</td>\n",
              "      <td>0</td>\n",
              "      <td>0</td>\n",
              "    </tr>\n",
              "  </tbody>\n",
              "</table>\n",
              "</div>\n",
              "      <button class=\"colab-df-convert\" onclick=\"convertToInteractive('df-1fdd42ce-f370-4a02-b6c5-d1c0a7d835cd')\"\n",
              "              title=\"Convert this dataframe to an interactive table.\"\n",
              "              style=\"display:none;\">\n",
              "        \n",
              "  <svg xmlns=\"http://www.w3.org/2000/svg\" height=\"24px\"viewBox=\"0 0 24 24\"\n",
              "       width=\"24px\">\n",
              "    <path d=\"M0 0h24v24H0V0z\" fill=\"none\"/>\n",
              "    <path d=\"M18.56 5.44l.94 2.06.94-2.06 2.06-.94-2.06-.94-.94-2.06-.94 2.06-2.06.94zm-11 1L8.5 8.5l.94-2.06 2.06-.94-2.06-.94L8.5 2.5l-.94 2.06-2.06.94zm10 10l.94 2.06.94-2.06 2.06-.94-2.06-.94-.94-2.06-.94 2.06-2.06.94z\"/><path d=\"M17.41 7.96l-1.37-1.37c-.4-.4-.92-.59-1.43-.59-.52 0-1.04.2-1.43.59L10.3 9.45l-7.72 7.72c-.78.78-.78 2.05 0 2.83L4 21.41c.39.39.9.59 1.41.59.51 0 1.02-.2 1.41-.59l7.78-7.78 2.81-2.81c.8-.78.8-2.07 0-2.86zM5.41 20L4 18.59l7.72-7.72 1.47 1.35L5.41 20z\"/>\n",
              "  </svg>\n",
              "      </button>\n",
              "      \n",
              "  <style>\n",
              "    .colab-df-container {\n",
              "      display:flex;\n",
              "      flex-wrap:wrap;\n",
              "      gap: 12px;\n",
              "    }\n",
              "\n",
              "    .colab-df-convert {\n",
              "      background-color: #E8F0FE;\n",
              "      border: none;\n",
              "      border-radius: 50%;\n",
              "      cursor: pointer;\n",
              "      display: none;\n",
              "      fill: #1967D2;\n",
              "      height: 32px;\n",
              "      padding: 0 0 0 0;\n",
              "      width: 32px;\n",
              "    }\n",
              "\n",
              "    .colab-df-convert:hover {\n",
              "      background-color: #E2EBFA;\n",
              "      box-shadow: 0px 1px 2px rgba(60, 64, 67, 0.3), 0px 1px 3px 1px rgba(60, 64, 67, 0.15);\n",
              "      fill: #174EA6;\n",
              "    }\n",
              "\n",
              "    [theme=dark] .colab-df-convert {\n",
              "      background-color: #3B4455;\n",
              "      fill: #D2E3FC;\n",
              "    }\n",
              "\n",
              "    [theme=dark] .colab-df-convert:hover {\n",
              "      background-color: #434B5C;\n",
              "      box-shadow: 0px 1px 3px 1px rgba(0, 0, 0, 0.15);\n",
              "      filter: drop-shadow(0px 1px 2px rgba(0, 0, 0, 0.3));\n",
              "      fill: #FFFFFF;\n",
              "    }\n",
              "  </style>\n",
              "\n",
              "      <script>\n",
              "        const buttonEl =\n",
              "          document.querySelector('#df-1fdd42ce-f370-4a02-b6c5-d1c0a7d835cd button.colab-df-convert');\n",
              "        buttonEl.style.display =\n",
              "          google.colab.kernel.accessAllowed ? 'block' : 'none';\n",
              "\n",
              "        async function convertToInteractive(key) {\n",
              "          const element = document.querySelector('#df-1fdd42ce-f370-4a02-b6c5-d1c0a7d835cd');\n",
              "          const dataTable =\n",
              "            await google.colab.kernel.invokeFunction('convertToInteractive',\n",
              "                                                     [key], {});\n",
              "          if (!dataTable) return;\n",
              "\n",
              "          const docLinkHtml = 'Like what you see? Visit the ' +\n",
              "            '<a target=\"_blank\" href=https://colab.research.google.com/notebooks/data_table.ipynb>data table notebook</a>'\n",
              "            + ' to learn more about interactive tables.';\n",
              "          element.innerHTML = '';\n",
              "          dataTable['output_type'] = 'display_data';\n",
              "          await google.colab.output.renderOutput(dataTable, element);\n",
              "          const docLink = document.createElement('div');\n",
              "          docLink.innerHTML = docLinkHtml;\n",
              "          element.appendChild(docLink);\n",
              "        }\n",
              "      </script>\n",
              "    </div>\n",
              "  </div>\n",
              "  "
            ]
          },
          "metadata": {},
          "execution_count": 25
        }
      ]
    },
    {
      "cell_type": "code",
      "source": [
        "# datos aleatorios (muestra de 10 elementos)\n",
        "\n",
        "df.sample(10)\n"
      ],
      "metadata": {
        "id": "zARbQ3mNq7NS",
        "colab": {
          "base_uri": "https://localhost:8080/",
          "height": 363
        },
        "outputId": "9672d5c6-2aee-4710-d809-aa16bdb71f8d"
      },
      "execution_count": 26,
      "outputs": [
        {
          "output_type": "execute_result",
          "data": {
            "text/plain": [
              "     dia  hora  tipologia  parroquia_urbana  causas  nro_heridos  \\\n",
              "106    6     2         10                 4       2            1   \n",
              "23     6     3         13                 3       4            0   \n",
              "93     1     3         13                 5       1            0   \n",
              "332    1     1          9                 3       2            0   \n",
              "270    4     2          8                 1       2            1   \n",
              "246    2     2          3                 1       9            1   \n",
              "189    6     2         11                 6       1            0   \n",
              "39     6     2         13                 6       2            1   \n",
              "25     2     1          9                 1       4            0   \n",
              "42     3     3         15                 4       1            0   \n",
              "\n",
              "     nro_fallecidos  \n",
              "106               0  \n",
              "23                0  \n",
              "93                0  \n",
              "332               0  \n",
              "270               0  \n",
              "246               0  \n",
              "189               0  \n",
              "39                0  \n",
              "25                0  \n",
              "42                0  "
            ],
            "text/html": [
              "\n",
              "  <div id=\"df-f21af255-036d-4ca1-9a7b-a825ec896eb3\">\n",
              "    <div class=\"colab-df-container\">\n",
              "      <div>\n",
              "<style scoped>\n",
              "    .dataframe tbody tr th:only-of-type {\n",
              "        vertical-align: middle;\n",
              "    }\n",
              "\n",
              "    .dataframe tbody tr th {\n",
              "        vertical-align: top;\n",
              "    }\n",
              "\n",
              "    .dataframe thead th {\n",
              "        text-align: right;\n",
              "    }\n",
              "</style>\n",
              "<table border=\"1\" class=\"dataframe\">\n",
              "  <thead>\n",
              "    <tr style=\"text-align: right;\">\n",
              "      <th></th>\n",
              "      <th>dia</th>\n",
              "      <th>hora</th>\n",
              "      <th>tipologia</th>\n",
              "      <th>parroquia_urbana</th>\n",
              "      <th>causas</th>\n",
              "      <th>nro_heridos</th>\n",
              "      <th>nro_fallecidos</th>\n",
              "    </tr>\n",
              "  </thead>\n",
              "  <tbody>\n",
              "    <tr>\n",
              "      <th>106</th>\n",
              "      <td>6</td>\n",
              "      <td>2</td>\n",
              "      <td>10</td>\n",
              "      <td>4</td>\n",
              "      <td>2</td>\n",
              "      <td>1</td>\n",
              "      <td>0</td>\n",
              "    </tr>\n",
              "    <tr>\n",
              "      <th>23</th>\n",
              "      <td>6</td>\n",
              "      <td>3</td>\n",
              "      <td>13</td>\n",
              "      <td>3</td>\n",
              "      <td>4</td>\n",
              "      <td>0</td>\n",
              "      <td>0</td>\n",
              "    </tr>\n",
              "    <tr>\n",
              "      <th>93</th>\n",
              "      <td>1</td>\n",
              "      <td>3</td>\n",
              "      <td>13</td>\n",
              "      <td>5</td>\n",
              "      <td>1</td>\n",
              "      <td>0</td>\n",
              "      <td>0</td>\n",
              "    </tr>\n",
              "    <tr>\n",
              "      <th>332</th>\n",
              "      <td>1</td>\n",
              "      <td>1</td>\n",
              "      <td>9</td>\n",
              "      <td>3</td>\n",
              "      <td>2</td>\n",
              "      <td>0</td>\n",
              "      <td>0</td>\n",
              "    </tr>\n",
              "    <tr>\n",
              "      <th>270</th>\n",
              "      <td>4</td>\n",
              "      <td>2</td>\n",
              "      <td>8</td>\n",
              "      <td>1</td>\n",
              "      <td>2</td>\n",
              "      <td>1</td>\n",
              "      <td>0</td>\n",
              "    </tr>\n",
              "    <tr>\n",
              "      <th>246</th>\n",
              "      <td>2</td>\n",
              "      <td>2</td>\n",
              "      <td>3</td>\n",
              "      <td>1</td>\n",
              "      <td>9</td>\n",
              "      <td>1</td>\n",
              "      <td>0</td>\n",
              "    </tr>\n",
              "    <tr>\n",
              "      <th>189</th>\n",
              "      <td>6</td>\n",
              "      <td>2</td>\n",
              "      <td>11</td>\n",
              "      <td>6</td>\n",
              "      <td>1</td>\n",
              "      <td>0</td>\n",
              "      <td>0</td>\n",
              "    </tr>\n",
              "    <tr>\n",
              "      <th>39</th>\n",
              "      <td>6</td>\n",
              "      <td>2</td>\n",
              "      <td>13</td>\n",
              "      <td>6</td>\n",
              "      <td>2</td>\n",
              "      <td>1</td>\n",
              "      <td>0</td>\n",
              "    </tr>\n",
              "    <tr>\n",
              "      <th>25</th>\n",
              "      <td>2</td>\n",
              "      <td>1</td>\n",
              "      <td>9</td>\n",
              "      <td>1</td>\n",
              "      <td>4</td>\n",
              "      <td>0</td>\n",
              "      <td>0</td>\n",
              "    </tr>\n",
              "    <tr>\n",
              "      <th>42</th>\n",
              "      <td>3</td>\n",
              "      <td>3</td>\n",
              "      <td>15</td>\n",
              "      <td>4</td>\n",
              "      <td>1</td>\n",
              "      <td>0</td>\n",
              "      <td>0</td>\n",
              "    </tr>\n",
              "  </tbody>\n",
              "</table>\n",
              "</div>\n",
              "      <button class=\"colab-df-convert\" onclick=\"convertToInteractive('df-f21af255-036d-4ca1-9a7b-a825ec896eb3')\"\n",
              "              title=\"Convert this dataframe to an interactive table.\"\n",
              "              style=\"display:none;\">\n",
              "        \n",
              "  <svg xmlns=\"http://www.w3.org/2000/svg\" height=\"24px\"viewBox=\"0 0 24 24\"\n",
              "       width=\"24px\">\n",
              "    <path d=\"M0 0h24v24H0V0z\" fill=\"none\"/>\n",
              "    <path d=\"M18.56 5.44l.94 2.06.94-2.06 2.06-.94-2.06-.94-.94-2.06-.94 2.06-2.06.94zm-11 1L8.5 8.5l.94-2.06 2.06-.94-2.06-.94L8.5 2.5l-.94 2.06-2.06.94zm10 10l.94 2.06.94-2.06 2.06-.94-2.06-.94-.94-2.06-.94 2.06-2.06.94z\"/><path d=\"M17.41 7.96l-1.37-1.37c-.4-.4-.92-.59-1.43-.59-.52 0-1.04.2-1.43.59L10.3 9.45l-7.72 7.72c-.78.78-.78 2.05 0 2.83L4 21.41c.39.39.9.59 1.41.59.51 0 1.02-.2 1.41-.59l7.78-7.78 2.81-2.81c.8-.78.8-2.07 0-2.86zM5.41 20L4 18.59l7.72-7.72 1.47 1.35L5.41 20z\"/>\n",
              "  </svg>\n",
              "      </button>\n",
              "      \n",
              "  <style>\n",
              "    .colab-df-container {\n",
              "      display:flex;\n",
              "      flex-wrap:wrap;\n",
              "      gap: 12px;\n",
              "    }\n",
              "\n",
              "    .colab-df-convert {\n",
              "      background-color: #E8F0FE;\n",
              "      border: none;\n",
              "      border-radius: 50%;\n",
              "      cursor: pointer;\n",
              "      display: none;\n",
              "      fill: #1967D2;\n",
              "      height: 32px;\n",
              "      padding: 0 0 0 0;\n",
              "      width: 32px;\n",
              "    }\n",
              "\n",
              "    .colab-df-convert:hover {\n",
              "      background-color: #E2EBFA;\n",
              "      box-shadow: 0px 1px 2px rgba(60, 64, 67, 0.3), 0px 1px 3px 1px rgba(60, 64, 67, 0.15);\n",
              "      fill: #174EA6;\n",
              "    }\n",
              "\n",
              "    [theme=dark] .colab-df-convert {\n",
              "      background-color: #3B4455;\n",
              "      fill: #D2E3FC;\n",
              "    }\n",
              "\n",
              "    [theme=dark] .colab-df-convert:hover {\n",
              "      background-color: #434B5C;\n",
              "      box-shadow: 0px 1px 3px 1px rgba(0, 0, 0, 0.15);\n",
              "      filter: drop-shadow(0px 1px 2px rgba(0, 0, 0, 0.3));\n",
              "      fill: #FFFFFF;\n",
              "    }\n",
              "  </style>\n",
              "\n",
              "      <script>\n",
              "        const buttonEl =\n",
              "          document.querySelector('#df-f21af255-036d-4ca1-9a7b-a825ec896eb3 button.colab-df-convert');\n",
              "        buttonEl.style.display =\n",
              "          google.colab.kernel.accessAllowed ? 'block' : 'none';\n",
              "\n",
              "        async function convertToInteractive(key) {\n",
              "          const element = document.querySelector('#df-f21af255-036d-4ca1-9a7b-a825ec896eb3');\n",
              "          const dataTable =\n",
              "            await google.colab.kernel.invokeFunction('convertToInteractive',\n",
              "                                                     [key], {});\n",
              "          if (!dataTable) return;\n",
              "\n",
              "          const docLinkHtml = 'Like what you see? Visit the ' +\n",
              "            '<a target=\"_blank\" href=https://colab.research.google.com/notebooks/data_table.ipynb>data table notebook</a>'\n",
              "            + ' to learn more about interactive tables.';\n",
              "          element.innerHTML = '';\n",
              "          dataTable['output_type'] = 'display_data';\n",
              "          await google.colab.output.renderOutput(dataTable, element);\n",
              "          const docLink = document.createElement('div');\n",
              "          docLink.innerHTML = docLinkHtml;\n",
              "          element.appendChild(docLink);\n",
              "        }\n",
              "      </script>\n",
              "    </div>\n",
              "  </div>\n",
              "  "
            ]
          },
          "metadata": {},
          "execution_count": 26
        }
      ]
    },
    {
      "cell_type": "markdown",
      "source": [
        "Verificacion de correlacion de variables"
      ],
      "metadata": {
        "id": "M2gFCKWDtEJ5"
      }
    },
    {
      "cell_type": "code",
      "source": [
        "#corelacion\n",
        "corr_df = df.corr(method='pearson')\n",
        "\n",
        "plt.figure(figsize=(8, 6))\n",
        "sns.heatmap(corr_df, annot=True)\n",
        "plt.show()"
      ],
      "metadata": {
        "colab": {
          "base_uri": "https://localhost:8080/",
          "height": 456
        },
        "id": "S6IGGVUKtHot",
        "outputId": "0325baff-0537-4348-9a64-a6e24957323b"
      },
      "execution_count": 27,
      "outputs": [
        {
          "output_type": "display_data",
          "data": {
            "text/plain": [
              "<Figure size 576x432 with 2 Axes>"
            ],
            "image/png": "[encoded data removed]"
          },
          "metadata": {
            "needs_background": "light"
          }
        }
      ]
    },
    {
      "cell_type": "code",
      "source": [
        "X = df.iloc[:, [0,2,3,4,5,6]] # atributos de entrada seran las primeras columnas\n",
        "Y = df.iloc[:,[1]] # atributos de destino\n",
        "\n",
        "#presentacion de los atributos de entrada\n",
        "X.head()"
      ],
      "metadata": {
        "id": "q4hw9m6frIz_",
        "colab": {
          "base_uri": "https://localhost:8080/",
          "height": 206
        },
        "outputId": "5a44c736-0d21-4529-dc38-2b2296031f03"
      },
      "execution_count": 28,
      "outputs": [
        {
          "output_type": "execute_result",
          "data": {
            "text/plain": [
              "   dia  tipologia  parroquia_urbana  causas  nro_heridos  nro_fallecidos\n",
              "0    5         13                 3       1            1               0\n",
              "1    2          9                 5       1            1               0\n",
              "2    2         10                 4      10            0               0\n",
              "3    5          3                 4       9            1               0\n",
              "4    6          8                 4       1            0               0"
            ],
            "text/html": [
              "\n",
              "  <div id=\"df-35cd4d1c-b014-42d9-ba1a-7786d0714234\">\n",
              "    <div class=\"colab-df-container\">\n",
              "      <div>\n",
              "<style scoped>\n",
              "    .dataframe tbody tr th:only-of-type {\n",
              "        vertical-align: middle;\n",
              "    }\n",
              "\n",
              "    .dataframe tbody tr th {\n",
              "        vertical-align: top;\n",
              "    }\n",
              "\n",
              "    .dataframe thead th {\n",
              "        text-align: right;\n",
              "    }\n",
              "</style>\n",
              "<table border=\"1\" class=\"dataframe\">\n",
              "  <thead>\n",
              "    <tr style=\"text-align: right;\">\n",
              "      <th></th>\n",
              "      <th>dia</th>\n",
              "      <th>tipologia</th>\n",
              "      <th>parroquia_urbana</th>\n",
              "      <th>causas</th>\n",
              "      <th>nro_heridos</th>\n",
              "      <th>nro_fallecidos</th>\n",
              "    </tr>\n",
              "  </thead>\n",
              "  <tbody>\n",
              "    <tr>\n",
              "      <th>0</th>\n",
              "      <td>5</td>\n",
              "      <td>13</td>\n",
              "      <td>3</td>\n",
              "      <td>1</td>\n",
              "      <td>1</td>\n",
              "      <td>0</td>\n",
              "    </tr>\n",
              "    <tr>\n",
              "      <th>1</th>\n",
              "      <td>2</td>\n",
              "      <td>9</td>\n",
              "      <td>5</td>\n",
              "      <td>1</td>\n",
              "      <td>1</td>\n",
              "      <td>0</td>\n",
              "    </tr>\n",
              "    <tr>\n",
              "      <th>2</th>\n",
              "      <td>2</td>\n",
              "      <td>10</td>\n",
              "      <td>4</td>\n",
              "      <td>10</td>\n",
              "      <td>0</td>\n",
              "      <td>0</td>\n",
              "    </tr>\n",
              "    <tr>\n",
              "      <th>3</th>\n",
              "      <td>5</td>\n",
              "      <td>3</td>\n",
              "      <td>4</td>\n",
              "      <td>9</td>\n",
              "      <td>1</td>\n",
              "      <td>0</td>\n",
              "    </tr>\n",
              "    <tr>\n",
              "      <th>4</th>\n",
              "      <td>6</td>\n",
              "      <td>8</td>\n",
              "      <td>4</td>\n",
              "      <td>1</td>\n",
              "      <td>0</td>\n",
              "      <td>0</td>\n",
              "    </tr>\n",
              "  </tbody>\n",
              "</table>\n",
              "</div>\n",
              "      <button class=\"colab-df-convert\" onclick=\"convertToInteractive('df-35cd4d1c-b014-42d9-ba1a-7786d0714234')\"\n",
              "              title=\"Convert this dataframe to an interactive table.\"\n",
              "              style=\"display:none;\">\n",
              "        \n",
              "  <svg xmlns=\"http://www.w3.org/2000/svg\" height=\"24px\"viewBox=\"0 0 24 24\"\n",
              "       width=\"24px\">\n",
              "    <path d=\"M0 0h24v24H0V0z\" fill=\"none\"/>\n",
              "    <path d=\"M18.56 5.44l.94 2.06.94-2.06 2.06-.94-2.06-.94-.94-2.06-.94 2.06-2.06.94zm-11 1L8.5 8.5l.94-2.06 2.06-.94-2.06-.94L8.5 2.5l-.94 2.06-2.06.94zm10 10l.94 2.06.94-2.06 2.06-.94-2.06-.94-.94-2.06-.94 2.06-2.06.94z\"/><path d=\"M17.41 7.96l-1.37-1.37c-.4-.4-.92-.59-1.43-.59-.52 0-1.04.2-1.43.59L10.3 9.45l-7.72 7.72c-.78.78-.78 2.05 0 2.83L4 21.41c.39.39.9.59 1.41.59.51 0 1.02-.2 1.41-.59l7.78-7.78 2.81-2.81c.8-.78.8-2.07 0-2.86zM5.41 20L4 18.59l7.72-7.72 1.47 1.35L5.41 20z\"/>\n",
              "  </svg>\n",
              "      </button>\n",
              "      \n",
              "  <style>\n",
              "    .colab-df-container {\n",
              "      display:flex;\n",
              "      flex-wrap:wrap;\n",
              "      gap: 12px;\n",
              "    }\n",
              "\n",
              "    .colab-df-convert {\n",
              "      background-color: #E8F0FE;\n",
              "      border: none;\n",
              "      border-radius: 50%;\n",
              "      cursor: pointer;\n",
              "      display: none;\n",
              "      fill: #1967D2;\n",
              "      height: 32px;\n",
              "      padding: 0 0 0 0;\n",
              "      width: 32px;\n",
              "    }\n",
              "\n",
              "    .colab-df-convert:hover {\n",
              "      background-color: #E2EBFA;\n",
              "      box-shadow: 0px 1px 2px rgba(60, 64, 67, 0.3), 0px 1px 3px 1px rgba(60, 64, 67, 0.15);\n",
              "      fill: #174EA6;\n",
              "    }\n",
              "\n",
              "    [theme=dark] .colab-df-convert {\n",
              "      background-color: #3B4455;\n",
              "      fill: #D2E3FC;\n",
              "    }\n",
              "\n",
              "    [theme=dark] .colab-df-convert:hover {\n",
              "      background-color: #434B5C;\n",
              "      box-shadow: 0px 1px 3px 1px rgba(0, 0, 0, 0.15);\n",
              "      filter: drop-shadow(0px 1px 2px rgba(0, 0, 0, 0.3));\n",
              "      fill: #FFFFFF;\n",
              "    }\n",
              "  </style>\n",
              "\n",
              "      <script>\n",
              "        const buttonEl =\n",
              "          document.querySelector('#df-35cd4d1c-b014-42d9-ba1a-7786d0714234 button.colab-df-convert');\n",
              "        buttonEl.style.display =\n",
              "          google.colab.kernel.accessAllowed ? 'block' : 'none';\n",
              "\n",
              "        async function convertToInteractive(key) {\n",
              "          const element = document.querySelector('#df-35cd4d1c-b014-42d9-ba1a-7786d0714234');\n",
              "          const dataTable =\n",
              "            await google.colab.kernel.invokeFunction('convertToInteractive',\n",
              "                                                     [key], {});\n",
              "          if (!dataTable) return;\n",
              "\n",
              "          const docLinkHtml = 'Like what you see? Visit the ' +\n",
              "            '<a target=\"_blank\" href=https://colab.research.google.com/notebooks/data_table.ipynb>data table notebook</a>'\n",
              "            + ' to learn more about interactive tables.';\n",
              "          element.innerHTML = '';\n",
              "          dataTable['output_type'] = 'display_data';\n",
              "          await google.colab.output.renderOutput(dataTable, element);\n",
              "          const docLink = document.createElement('div');\n",
              "          docLink.innerHTML = docLinkHtml;\n",
              "          element.appendChild(docLink);\n",
              "        }\n",
              "      </script>\n",
              "    </div>\n",
              "  </div>\n",
              "  "
            ]
          },
          "metadata": {},
          "execution_count": 28
        }
      ]
    },
    {
      "cell_type": "code",
      "source": [
        "#presentacion de los atributos de destino\n",
        "Y.head()"
      ],
      "metadata": {
        "colab": {
          "base_uri": "https://localhost:8080/",
          "height": 206
        },
        "id": "wJPfBdKlXmUC",
        "outputId": "54ba2746-9458-4257-8274-afb683659f21"
      },
      "execution_count": 29,
      "outputs": [
        {
          "output_type": "execute_result",
          "data": {
            "text/plain": [
              "   hora\n",
              "0     1\n",
              "1     2\n",
              "2     2\n",
              "3     1\n",
              "4     1"
            ],
            "text/html": [
              "\n",
              "  <div id=\"df-4cf980eb-ef92-4818-9db0-c003bff42134\">\n",
              "    <div class=\"colab-df-container\">\n",
              "      <div>\n",
              "<style scoped>\n",
              "    .dataframe tbody tr th:only-of-type {\n",
              "        vertical-align: middle;\n",
              "    }\n",
              "\n",
              "    .dataframe tbody tr th {\n",
              "        vertical-align: top;\n",
              "    }\n",
              "\n",
              "    .dataframe thead th {\n",
              "        text-align: right;\n",
              "    }\n",
              "</style>\n",
              "<table border=\"1\" class=\"dataframe\">\n",
              "  <thead>\n",
              "    <tr style=\"text-align: right;\">\n",
              "      <th></th>\n",
              "      <th>hora</th>\n",
              "    </tr>\n",
              "  </thead>\n",
              "  <tbody>\n",
              "    <tr>\n",
              "      <th>0</th>\n",
              "      <td>1</td>\n",
              "    </tr>\n",
              "    <tr>\n",
              "      <th>1</th>\n",
              "      <td>2</td>\n",
              "    </tr>\n",
              "    <tr>\n",
              "      <th>2</th>\n",
              "      <td>2</td>\n",
              "    </tr>\n",
              "    <tr>\n",
              "      <th>3</th>\n",
              "      <td>1</td>\n",
              "    </tr>\n",
              "    <tr>\n",
              "      <th>4</th>\n",
              "      <td>1</td>\n",
              "    </tr>\n",
              "  </tbody>\n",
              "</table>\n",
              "</div>\n",
              "      <button class=\"colab-df-convert\" onclick=\"convertToInteractive('df-4cf980eb-ef92-4818-9db0-c003bff42134')\"\n",
              "              title=\"Convert this dataframe to an interactive table.\"\n",
              "              style=\"display:none;\">\n",
              "        \n",
              "  <svg xmlns=\"http://www.w3.org/2000/svg\" height=\"24px\"viewBox=\"0 0 24 24\"\n",
              "       width=\"24px\">\n",
              "    <path d=\"M0 0h24v24H0V0z\" fill=\"none\"/>\n",
              "    <path d=\"M18.56 5.44l.94 2.06.94-2.06 2.06-.94-2.06-.94-.94-2.06-.94 2.06-2.06.94zm-11 1L8.5 8.5l.94-2.06 2.06-.94-2.06-.94L8.5 2.5l-.94 2.06-2.06.94zm10 10l.94 2.06.94-2.06 2.06-.94-2.06-.94-.94-2.06-.94 2.06-2.06.94z\"/><path d=\"M17.41 7.96l-1.37-1.37c-.4-.4-.92-.59-1.43-.59-.52 0-1.04.2-1.43.59L10.3 9.45l-7.72 7.72c-.78.78-.78 2.05 0 2.83L4 21.41c.39.39.9.59 1.41.59.51 0 1.02-.2 1.41-.59l7.78-7.78 2.81-2.81c.8-.78.8-2.07 0-2.86zM5.41 20L4 18.59l7.72-7.72 1.47 1.35L5.41 20z\"/>\n",
              "  </svg>\n",
              "      </button>\n",
              "      \n",
              "  <style>\n",
              "    .colab-df-container {\n",
              "      display:flex;\n",
              "      flex-wrap:wrap;\n",
              "      gap: 12px;\n",
              "    }\n",
              "\n",
              "    .colab-df-convert {\n",
              "      background-color: #E8F0FE;\n",
              "      border: none;\n",
              "      border-radius: 50%;\n",
              "      cursor: pointer;\n",
              "      display: none;\n",
              "      fill: #1967D2;\n",
              "      height: 32px;\n",
              "      padding: 0 0 0 0;\n",
              "      width: 32px;\n",
              "    }\n",
              "\n",
              "    .colab-df-convert:hover {\n",
              "      background-color: #E2EBFA;\n",
              "      box-shadow: 0px 1px 2px rgba(60, 64, 67, 0.3), 0px 1px 3px 1px rgba(60, 64, 67, 0.15);\n",
              "      fill: #174EA6;\n",
              "    }\n",
              "\n",
              "    [theme=dark] .colab-df-convert {\n",
              "      background-color: #3B4455;\n",
              "      fill: #D2E3FC;\n",
              "    }\n",
              "\n",
              "    [theme=dark] .colab-df-convert:hover {\n",
              "      background-color: #434B5C;\n",
              "      box-shadow: 0px 1px 3px 1px rgba(0, 0, 0, 0.15);\n",
              "      filter: drop-shadow(0px 1px 2px rgba(0, 0, 0, 0.3));\n",
              "      fill: #FFFFFF;\n",
              "    }\n",
              "  </style>\n",
              "\n",
              "      <script>\n",
              "        const buttonEl =\n",
              "          document.querySelector('#df-4cf980eb-ef92-4818-9db0-c003bff42134 button.colab-df-convert');\n",
              "        buttonEl.style.display =\n",
              "          google.colab.kernel.accessAllowed ? 'block' : 'none';\n",
              "\n",
              "        async function convertToInteractive(key) {\n",
              "          const element = document.querySelector('#df-4cf980eb-ef92-4818-9db0-c003bff42134');\n",
              "          const dataTable =\n",
              "            await google.colab.kernel.invokeFunction('convertToInteractive',\n",
              "                                                     [key], {});\n",
              "          if (!dataTable) return;\n",
              "\n",
              "          const docLinkHtml = 'Like what you see? Visit the ' +\n",
              "            '<a target=\"_blank\" href=https://colab.research.google.com/notebooks/data_table.ipynb>data table notebook</a>'\n",
              "            + ' to learn more about interactive tables.';\n",
              "          element.innerHTML = '';\n",
              "          dataTable['output_type'] = 'display_data';\n",
              "          await google.colab.output.renderOutput(dataTable, element);\n",
              "          const docLink = document.createElement('div');\n",
              "          docLink.innerHTML = docLinkHtml;\n",
              "          element.appendChild(docLink);\n",
              "        }\n",
              "      </script>\n",
              "    </div>\n",
              "  </div>\n",
              "  "
            ]
          },
          "metadata": {},
          "execution_count": 29
        }
      ]
    },
    {
      "cell_type": "markdown",
      "source": [
        "Carga de modelo"
      ],
      "metadata": {
        "id": "gPKWmiOEiYM_"
      }
    },
    {
      "cell_type": "code",
      "source": [
        "from joblib import load\n",
        "arbol_modelo = load('modelo_hora_python.joblib')\n",
        "y_pred = arbol_modelo.predict(X) "
      ],
      "metadata": {
        "id": "KpzwOKfbiV7u",
        "colab": {
          "base_uri": "https://localhost:8080/"
        },
        "outputId": "46cc8a7f-418e-4381-f4d9-46f524a94ad1"
      },
      "execution_count": 30,
      "outputs": [
        {
          "output_type": "stream",
          "name": "stderr",
          "text": [
            "/usr/local/lib/python3.9/dist-packages/sklearn/base.py:318: UserWarning:\n",
            "\n",
            "Trying to unpickle estimator DecisionTreeClassifier from version 1.0.2 when using version 1.2.2. This might lead to breaking code or invalid results. Use at your own risk. For more info please refer to:\n",
            "https://scikit-learn.org/stable/model_persistence.html#security-maintainability-limitations\n",
            "\n"
          ]
        }
      ]
    },
    {
      "cell_type": "code",
      "source": [
        "print(y_pred)"
      ],
      "metadata": {
        "colab": {
          "base_uri": "https://localhost:8080/"
        },
        "id": "H3wh8C01jIAG",
        "outputId": "ab19e146-f0e2-41e4-c418-d517aee246d0"
      },
      "execution_count": 31,
      "outputs": [
        {
          "output_type": "stream",
          "name": "stdout",
          "text": [
            "[0 3 2 2 3 2 0 0 3 2 0 3 3 2 2 2 0 3 0 3 2 3 0 0 2 2 2 2 0 0 2 3 2 2 3 0 2\n",
            " 0 0 0 2 0 0 0 0 0 3 2 0 2 0 2 3 0 0 2 3 2 2 2 2 2 0 2 0 2 0 2 2 2 3 2 3 3\n",
            " 3 2 0 2 2 2 2 0 0 0 2 2 2 2 3 0 2 0 2 3 0 2 0 2 0 2 0 2 0 0 2 2 2 2 2 2 0\n",
            " 2 2 3 0 3 2 2 2 3 0 2 0 3 3 0 2 0 2 2 0 0 0 3 0 0 3 2 2 2 0 2 3 3 2 0 0 0\n",
            " 2 2 2 2 2 2 2 2 0 2 0 0 3 2 0 2 2 3 2 2 0 0 3 2 3 2 2 3 2 2 0 0 2 2 2 0 3\n",
            " 0 0 0 0 3 2 0 0 2 2 2 0 0 0 2 3 0 2 2 2 2 2 0 2 0 2 2 0 0 0 0 0 0 2 2 2 0\n",
            " 0 2 2 0 2 0 2 2 0 0 0 0 2 0 2 2 2 0 2 2 2 0 2 2 2 2 2 2 0 2 2 2 0 0 2 3 2\n",
            " 0 2 0 2 2 2 2 3 2 0 2 2 0 2 2 0 0 2 0 2 2 0 2 2 2 2 0 0 3 0 2 3 0 0 0 3 2\n",
            " 2 0 0 0 0 0 2 0 0 0 0 0 0 2 0 2 3 2 0 2 2 3 0 2 3 2 0 0 0 0 0 0 0 0 0 2 2\n",
            " 0 2 2 0 0 2 0 2 3 2 2 2 2 2 2 0 2 3 2 2 2 2 2 2 3 2 2 2 0 3 2 2 2 2 2 3 3]\n"
          ]
        }
      ]
    },
    {
      "cell_type": "markdown",
      "source": [
        "Creamos la figura del arbol"
      ],
      "metadata": {
        "id": "5iWJi8dIBi9X"
      }
    },
    {
      "cell_type": "code",
      "source": [
        "figura_arbol = plt.figure(figsize=(40,20)) # Le indicamos las dimensiones que queremos que tenga\n",
        "plot_tree(arbol_modelo,feature_names=X.columns,filled=True, fontsize=15)\n",
        "plt.show()"
      ],
      "metadata": {
        "colab": {
          "base_uri": "https://localhost:8080/",
          "height": 563
        },
        "id": "PWhrUlUnBX-v",
        "outputId": "bad7b92c-6233-4b62-f42a-990e8bc281ab"
      },
      "execution_count": 32,
      "outputs": [
        {
          "output_type": "display_data",
          "data": {
            "text/plain": [
              "<Figure size 2880x1440 with 1 Axes>"
            ],
            "image/png": "[encoded data removed]"
          },
          "metadata": {
            "needs_background": "light"
          }
        }
      ]
    },
    {
      "cell_type": "code",
      "source": [
        "figura_arbol.savefig(\"arbol_colab_hora_2021.png\")"
      ],
      "metadata": {
        "id": "xMPUTso_SM7e"
      },
      "execution_count": 33,
      "outputs": []
    },
    {
      "cell_type": "code",
      "source": [
        "# Resumen de las predicciones hechas por el clasificador\n",
        "from sklearn import metrics\n",
        "reporte = metrics.classification_report(Y, y_pred,output_dict=True)\n",
        "pre = pd.DataFrame(reporte).transpose()\n",
        "print(pre)\n",
        "pre.to_excel(\"resumen_precision_hora_2021.xlsx\")"
      ],
      "metadata": {
        "id": "5IU5Pjb0xi-M",
        "colab": {
          "base_uri": "https://localhost:8080/"
        },
        "outputId": "522d450b-b0cc-4da8-9d65-4eaf5dd5242a"
      },
      "execution_count": 34,
      "outputs": [
        {
          "output_type": "stream",
          "name": "stderr",
          "text": [
            "/usr/local/lib/python3.9/dist-packages/sklearn/metrics/_classification.py:1344: UndefinedMetricWarning:\n",
            "\n",
            "Precision and F-score are ill-defined and being set to 0.0 in labels with no predicted samples. Use `zero_division` parameter to control this behavior.\n",
            "\n",
            "/usr/local/lib/python3.9/dist-packages/sklearn/metrics/_classification.py:1344: UndefinedMetricWarning:\n",
            "\n",
            "Precision and F-score are ill-defined and being set to 0.0 in labels with no predicted samples. Use `zero_division` parameter to control this behavior.\n",
            "\n",
            "/usr/local/lib/python3.9/dist-packages/sklearn/metrics/_classification.py:1344: UndefinedMetricWarning:\n",
            "\n",
            "Precision and F-score are ill-defined and being set to 0.0 in labels with no predicted samples. Use `zero_division` parameter to control this behavior.\n",
            "\n"
          ]
        },
        {
          "output_type": "stream",
          "name": "stdout",
          "text": [
            "              precision    recall  f1-score     support\n",
            "0              0.357664  0.742424  0.482759   66.000000\n",
            "1              0.000000  0.000000  0.000000   80.000000\n",
            "2              0.409836  0.681818  0.511945  110.000000\n",
            "3              0.600000  0.263158  0.365854  114.000000\n",
            "accuracy       0.416216  0.416216  0.416216    0.416216\n",
            "macro avg      0.341875  0.421850  0.340139  370.000000\n",
            "weighted avg   0.370508  0.416216  0.351036  370.000000\n"
          ]
        }
      ]
    },
    {
      "cell_type": "markdown",
      "source": [
        "Predicciones"
      ],
      "metadata": {
        "id": "_KB08XNKkVu-"
      }
    },
    {
      "cell_type": "code",
      "source": [
        "pred = pd.DataFrame(y_pred)\n",
        "pred.head()"
      ],
      "metadata": {
        "colab": {
          "base_uri": "https://localhost:8080/",
          "height": 206
        },
        "id": "0Rq-EpLzfWwz",
        "outputId": "b46c2337-99d2-416f-a693-25984a834f22"
      },
      "execution_count": 35,
      "outputs": [
        {
          "output_type": "execute_result",
          "data": {
            "text/plain": [
              "   0\n",
              "0  0\n",
              "1  3\n",
              "2  2\n",
              "3  2\n",
              "4  3"
            ],
            "text/html": [
              "\n",
              "  <div id=\"df-d719b046-abe7-4201-803e-c8cb871717e5\">\n",
              "    <div class=\"colab-df-container\">\n",
              "      <div>\n",
              "<style scoped>\n",
              "    .dataframe tbody tr th:only-of-type {\n",
              "        vertical-align: middle;\n",
              "    }\n",
              "\n",
              "    .dataframe tbody tr th {\n",
              "        vertical-align: top;\n",
              "    }\n",
              "\n",
              "    .dataframe thead th {\n",
              "        text-align: right;\n",
              "    }\n",
              "</style>\n",
              "<table border=\"1\" class=\"dataframe\">\n",
              "  <thead>\n",
              "    <tr style=\"text-align: right;\">\n",
              "      <th></th>\n",
              "      <th>0</th>\n",
              "    </tr>\n",
              "  </thead>\n",
              "  <tbody>\n",
              "    <tr>\n",
              "      <th>0</th>\n",
              "      <td>0</td>\n",
              "    </tr>\n",
              "    <tr>\n",
              "      <th>1</th>\n",
              "      <td>3</td>\n",
              "    </tr>\n",
              "    <tr>\n",
              "      <th>2</th>\n",
              "      <td>2</td>\n",
              "    </tr>\n",
              "    <tr>\n",
              "      <th>3</th>\n",
              "      <td>2</td>\n",
              "    </tr>\n",
              "    <tr>\n",
              "      <th>4</th>\n",
              "      <td>3</td>\n",
              "    </tr>\n",
              "  </tbody>\n",
              "</table>\n",
              "</div>\n",
              "      <button class=\"colab-df-convert\" onclick=\"convertToInteractive('df-d719b046-abe7-4201-803e-c8cb871717e5')\"\n",
              "              title=\"Convert this dataframe to an interactive table.\"\n",
              "              style=\"display:none;\">\n",
              "        \n",
              "  <svg xmlns=\"http://www.w3.org/2000/svg\" height=\"24px\"viewBox=\"0 0 24 24\"\n",
              "       width=\"24px\">\n",
              "    <path d=\"M0 0h24v24H0V0z\" fill=\"none\"/>\n",
              "    <path d=\"M18.56 5.44l.94 2.06.94-2.06 2.06-.94-2.06-.94-.94-2.06-.94 2.06-2.06.94zm-11 1L8.5 8.5l.94-2.06 2.06-.94-2.06-.94L8.5 2.5l-.94 2.06-2.06.94zm10 10l.94 2.06.94-2.06 2.06-.94-2.06-.94-.94-2.06-.94 2.06-2.06.94z\"/><path d=\"M17.41 7.96l-1.37-1.37c-.4-.4-.92-.59-1.43-.59-.52 0-1.04.2-1.43.59L10.3 9.45l-7.72 7.72c-.78.78-.78 2.05 0 2.83L4 21.41c.39.39.9.59 1.41.59.51 0 1.02-.2 1.41-.59l7.78-7.78 2.81-2.81c.8-.78.8-2.07 0-2.86zM5.41 20L4 18.59l7.72-7.72 1.47 1.35L5.41 20z\"/>\n",
              "  </svg>\n",
              "      </button>\n",
              "      \n",
              "  <style>\n",
              "    .colab-df-container {\n",
              "      display:flex;\n",
              "      flex-wrap:wrap;\n",
              "      gap: 12px;\n",
              "    }\n",
              "\n",
              "    .colab-df-convert {\n",
              "      background-color: #E8F0FE;\n",
              "      border: none;\n",
              "      border-radius: 50%;\n",
              "      cursor: pointer;\n",
              "      display: none;\n",
              "      fill: #1967D2;\n",
              "      height: 32px;\n",
              "      padding: 0 0 0 0;\n",
              "      width: 32px;\n",
              "    }\n",
              "\n",
              "    .colab-df-convert:hover {\n",
              "      background-color: #E2EBFA;\n",
              "      box-shadow: 0px 1px 2px rgba(60, 64, 67, 0.3), 0px 1px 3px 1px rgba(60, 64, 67, 0.15);\n",
              "      fill: #174EA6;\n",
              "    }\n",
              "\n",
              "    [theme=dark] .colab-df-convert {\n",
              "      background-color: #3B4455;\n",
              "      fill: #D2E3FC;\n",
              "    }\n",
              "\n",
              "    [theme=dark] .colab-df-convert:hover {\n",
              "      background-color: #434B5C;\n",
              "      box-shadow: 0px 1px 3px 1px rgba(0, 0, 0, 0.15);\n",
              "      filter: drop-shadow(0px 1px 2px rgba(0, 0, 0, 0.3));\n",
              "      fill: #FFFFFF;\n",
              "    }\n",
              "  </style>\n",
              "\n",
              "      <script>\n",
              "        const buttonEl =\n",
              "          document.querySelector('#df-d719b046-abe7-4201-803e-c8cb871717e5 button.colab-df-convert');\n",
              "        buttonEl.style.display =\n",
              "          google.colab.kernel.accessAllowed ? 'block' : 'none';\n",
              "\n",
              "        async function convertToInteractive(key) {\n",
              "          const element = document.querySelector('#df-d719b046-abe7-4201-803e-c8cb871717e5');\n",
              "          const dataTable =\n",
              "            await google.colab.kernel.invokeFunction('convertToInteractive',\n",
              "                                                     [key], {});\n",
              "          if (!dataTable) return;\n",
              "\n",
              "          const docLinkHtml = 'Like what you see? Visit the ' +\n",
              "            '<a target=\"_blank\" href=https://colab.research.google.com/notebooks/data_table.ipynb>data table notebook</a>'\n",
              "            + ' to learn more about interactive tables.';\n",
              "          element.innerHTML = '';\n",
              "          dataTable['output_type'] = 'display_data';\n",
              "          await google.colab.output.renderOutput(dataTable, element);\n",
              "          const docLink = document.createElement('div');\n",
              "          docLink.innerHTML = docLinkHtml;\n",
              "          element.appendChild(docLink);\n",
              "        }\n",
              "      </script>\n",
              "    </div>\n",
              "  </div>\n",
              "  "
            ]
          },
          "metadata": {},
          "execution_count": 35
        }
      ]
    },
    {
      "cell_type": "markdown",
      "source": [
        "Generamos la matriz de confusión"
      ],
      "metadata": {
        "id": "jDlBhqg2_pXc"
      }
    },
    {
      "cell_type": "code",
      "source": [
        "#Matriz de confusion\n",
        "matriz=confusion_matrix(Y, y_pred)\n",
        "ax= plt.subplot()\n",
        "sns.heatmap(matriz, annot=True, cmap=\"Blues\",fmt='g');\n",
        "ax.set_xlabel('Predicted labels');ax.set_ylabel('True labels'); \n",
        "ax.set_title('Confusion Matrix');"
      ],
      "metadata": {
        "id": "HNn-8xKlxe6E",
        "colab": {
          "base_uri": "https://localhost:8080/",
          "height": 295
        },
        "outputId": "109c2b4e-e4b7-4233-aa60-ed05cd4a9d95"
      },
      "execution_count": 36,
      "outputs": [
        {
          "output_type": "display_data",
          "data": {
            "text/plain": [
              "<Figure size 432x288 with 2 Axes>"
            ],
            "image/png": "[encoded data removed]"
          },
          "metadata": {
            "needs_background": "light"
          }
        }
      ]
    },
    {
      "cell_type": "code",
      "source": [
        "#Para concatenar variables\n",
        "import pandas as pd\n",
        "\n",
        "prediccion = pd.DataFrame(y_pred,columns=['hora_prediccion'])\n",
        "original = Y\n",
        "original.reset_index(drop=True, inplace=True)\n",
        "df_combined = pd.concat([prediccion,original], axis=1)\n",
        "df_combined.head(10)\n"
      ],
      "metadata": {
        "colab": {
          "base_uri": "https://localhost:8080/",
          "height": 363
        },
        "id": "6Lw1Nfc-ZgN5",
        "outputId": "ccd134cf-d302-488b-8a55-d5cd7d45b272"
      },
      "execution_count": 37,
      "outputs": [
        {
          "output_type": "execute_result",
          "data": {
            "text/plain": [
              "   hora_prediccion  hora\n",
              "0                0     1\n",
              "1                3     2\n",
              "2                2     2\n",
              "3                2     1\n",
              "4                3     1\n",
              "5                2     1\n",
              "6                0     2\n",
              "7                0     3\n",
              "8                3     0\n",
              "9                2     2"
            ],
            "text/html": [
              "\n",
              "  <div id=\"df-59c27044-0bec-4210-a2b1-683ef1583931\">\n",
              "    <div class=\"colab-df-container\">\n",
              "      <div>\n",
              "<style scoped>\n",
              "    .dataframe tbody tr th:only-of-type {\n",
              "        vertical-align: middle;\n",
              "    }\n",
              "\n",
              "    .dataframe tbody tr th {\n",
              "        vertical-align: top;\n",
              "    }\n",
              "\n",
              "    .dataframe thead th {\n",
              "        text-align: right;\n",
              "    }\n",
              "</style>\n",
              "<table border=\"1\" class=\"dataframe\">\n",
              "  <thead>\n",
              "    <tr style=\"text-align: right;\">\n",
              "      <th></th>\n",
              "      <th>hora_prediccion</th>\n",
              "      <th>hora</th>\n",
              "    </tr>\n",
              "  </thead>\n",
              "  <tbody>\n",
              "    <tr>\n",
              "      <th>0</th>\n",
              "      <td>0</td>\n",
              "      <td>1</td>\n",
              "    </tr>\n",
              "    <tr>\n",
              "      <th>1</th>\n",
              "      <td>3</td>\n",
              "      <td>2</td>\n",
              "    </tr>\n",
              "    <tr>\n",
              "      <th>2</th>\n",
              "      <td>2</td>\n",
              "      <td>2</td>\n",
              "    </tr>\n",
              "    <tr>\n",
              "      <th>3</th>\n",
              "      <td>2</td>\n",
              "      <td>1</td>\n",
              "    </tr>\n",
              "    <tr>\n",
              "      <th>4</th>\n",
              "      <td>3</td>\n",
              "      <td>1</td>\n",
              "    </tr>\n",
              "    <tr>\n",
              "      <th>5</th>\n",
              "      <td>2</td>\n",
              "      <td>1</td>\n",
              "    </tr>\n",
              "    <tr>\n",
              "      <th>6</th>\n",
              "      <td>0</td>\n",
              "      <td>2</td>\n",
              "    </tr>\n",
              "    <tr>\n",
              "      <th>7</th>\n",
              "      <td>0</td>\n",
              "      <td>3</td>\n",
              "    </tr>\n",
              "    <tr>\n",
              "      <th>8</th>\n",
              "      <td>3</td>\n",
              "      <td>0</td>\n",
              "    </tr>\n",
              "    <tr>\n",
              "      <th>9</th>\n",
              "      <td>2</td>\n",
              "      <td>2</td>\n",
              "    </tr>\n",
              "  </tbody>\n",
              "</table>\n",
              "</div>\n",
              "      <button class=\"colab-df-convert\" onclick=\"convertToInteractive('df-59c27044-0bec-4210-a2b1-683ef1583931')\"\n",
              "              title=\"Convert this dataframe to an interactive table.\"\n",
              "              style=\"display:none;\">\n",
              "        \n",
              "  <svg xmlns=\"http://www.w3.org/2000/svg\" height=\"24px\"viewBox=\"0 0 24 24\"\n",
              "       width=\"24px\">\n",
              "    <path d=\"M0 0h24v24H0V0z\" fill=\"none\"/>\n",
              "    <path d=\"M18.56 5.44l.94 2.06.94-2.06 2.06-.94-2.06-.94-.94-2.06-.94 2.06-2.06.94zm-11 1L8.5 8.5l.94-2.06 2.06-.94-2.06-.94L8.5 2.5l-.94 2.06-2.06.94zm10 10l.94 2.06.94-2.06 2.06-.94-2.06-.94-.94-2.06-.94 2.06-2.06.94z\"/><path d=\"M17.41 7.96l-1.37-1.37c-.4-.4-.92-.59-1.43-.59-.52 0-1.04.2-1.43.59L10.3 9.45l-7.72 7.72c-.78.78-.78 2.05 0 2.83L4 21.41c.39.39.9.59 1.41.59.51 0 1.02-.2 1.41-.59l7.78-7.78 2.81-2.81c.8-.78.8-2.07 0-2.86zM5.41 20L4 18.59l7.72-7.72 1.47 1.35L5.41 20z\"/>\n",
              "  </svg>\n",
              "      </button>\n",
              "      \n",
              "  <style>\n",
              "    .colab-df-container {\n",
              "      display:flex;\n",
              "      flex-wrap:wrap;\n",
              "      gap: 12px;\n",
              "    }\n",
              "\n",
              "    .colab-df-convert {\n",
              "      background-color: #E8F0FE;\n",
              "      border: none;\n",
              "      border-radius: 50%;\n",
              "      cursor: pointer;\n",
              "      display: none;\n",
              "      fill: #1967D2;\n",
              "      height: 32px;\n",
              "      padding: 0 0 0 0;\n",
              "      width: 32px;\n",
              "    }\n",
              "\n",
              "    .colab-df-convert:hover {\n",
              "      background-color: #E2EBFA;\n",
              "      box-shadow: 0px 1px 2px rgba(60, 64, 67, 0.3), 0px 1px 3px 1px rgba(60, 64, 67, 0.15);\n",
              "      fill: #174EA6;\n",
              "    }\n",
              "\n",
              "    [theme=dark] .colab-df-convert {\n",
              "      background-color: #3B4455;\n",
              "      fill: #D2E3FC;\n",
              "    }\n",
              "\n",
              "    [theme=dark] .colab-df-convert:hover {\n",
              "      background-color: #434B5C;\n",
              "      box-shadow: 0px 1px 3px 1px rgba(0, 0, 0, 0.15);\n",
              "      filter: drop-shadow(0px 1px 2px rgba(0, 0, 0, 0.3));\n",
              "      fill: #FFFFFF;\n",
              "    }\n",
              "  </style>\n",
              "\n",
              "      <script>\n",
              "        const buttonEl =\n",
              "          document.querySelector('#df-59c27044-0bec-4210-a2b1-683ef1583931 button.colab-df-convert');\n",
              "        buttonEl.style.display =\n",
              "          google.colab.kernel.accessAllowed ? 'block' : 'none';\n",
              "\n",
              "        async function convertToInteractive(key) {\n",
              "          const element = document.querySelector('#df-59c27044-0bec-4210-a2b1-683ef1583931');\n",
              "          const dataTable =\n",
              "            await google.colab.kernel.invokeFunction('convertToInteractive',\n",
              "                                                     [key], {});\n",
              "          if (!dataTable) return;\n",
              "\n",
              "          const docLinkHtml = 'Like what you see? Visit the ' +\n",
              "            '<a target=\"_blank\" href=https://colab.research.google.com/notebooks/data_table.ipynb>data table notebook</a>'\n",
              "            + ' to learn more about interactive tables.';\n",
              "          element.innerHTML = '';\n",
              "          dataTable['output_type'] = 'display_data';\n",
              "          await google.colab.output.renderOutput(dataTable, element);\n",
              "          const docLink = document.createElement('div');\n",
              "          docLink.innerHTML = docLinkHtml;\n",
              "          element.appendChild(docLink);\n",
              "        }\n",
              "      </script>\n",
              "    </div>\n",
              "  </div>\n",
              "  "
            ]
          },
          "metadata": {},
          "execution_count": 37
        }
      ]
    },
    {
      "cell_type": "code",
      "source": [
        "#metodo para validar el promedio de exactitud\n",
        "from sklearn import model_selection\n",
        "def v_cruzada(arbol_modelo, X_train,y_train):     \n",
        "    scoring = 'accuracy'\n",
        "    seed=7\n",
        "    kfold = model_selection.KFold(n_splits=5, random_state=seed, shuffle = True) ##shuffle para activar el random state\n",
        "    cv_results = model_selection.cross_val_score(arbol_modelo, X_train, y_train, cv=kfold, scoring=scoring)\n",
        "    #results.append(cv_results)\n",
        "    #names.append(name)\n",
        "    print(\"Iteraciones validacion cruzada:\\n\",cv_results)\n",
        "    msg = \"%f (%f)\" % (cv_results.mean(), cv_results.std())\n",
        "    print(\"Precision media:\\n\",msg)"
      ],
      "metadata": {
        "id": "hEvUe1FyXU59"
      },
      "execution_count": 38,
      "outputs": []
    },
    {
      "cell_type": "markdown",
      "source": [
        "Visualizamos la exactitud del modelo"
      ],
      "metadata": {
        "id": "23w088v5_yLd"
      }
    },
    {
      "cell_type": "code",
      "source": [
        "# Precisión\n",
        "from sklearn.metrics import accuracy_score, recall_score, precision_score\n",
        "print('Exactitud árboles de decisión: ',accuracy_score(pred,Y)*100)\n",
        "print('Exhaustividad árboles de decisión: ', recall_score(pred,Y,average='micro')*100)\n",
        "print('Precision árboles de decisión: ',accuracy_score(pred,Y)*100)"
      ],
      "metadata": {
        "id": "BqcF-Y1cskkY",
        "colab": {
          "base_uri": "https://localhost:8080/"
        },
        "outputId": "b1865eab-f80a-49b1-bf7a-97bb3d253fa8"
      },
      "execution_count": 39,
      "outputs": [
        {
          "output_type": "stream",
          "name": "stdout",
          "text": [
            "Exactitud árboles de decisión:  41.62162162162162\n",
            "Exhaustividad árboles de decisión:  41.62162162162162\n",
            "Precision árboles de decisión:  41.62162162162162\n"
          ]
        }
      ]
    },
    {
      "cell_type": "markdown",
      "source": [
        "Transformamos las variables"
      ],
      "metadata": {
        "id": "PtVXVx-X_z9D"
      }
    },
    {
      "cell_type": "code",
      "source": [
        "#transformar datos para visualización de variables predictoras y originales\n",
        "df_combined['hora']= df_combined['hora'].apply(lambda x: \n",
        "                                    'h00-h05' if x == 0 else\n",
        "                                    'h06-h011' if x == 1 else \n",
        "                                    'h012-h17' if x == 2 else \n",
        "                                    'h18-h23')\n",
        "\n",
        "df_combined['hora_prediccion']= df_combined['hora_prediccion'].apply(lambda x: \n",
        "                                    'h00-h05' if x == 0 else\n",
        "                                    'h06-h011' if x == 1 else \n",
        "                                    'h012-h17' if x == 2 else \n",
        "                                    'h18-h23')"
      ],
      "metadata": {
        "id": "L7youmANHijf"
      },
      "execution_count": 40,
      "outputs": []
    },
    {
      "cell_type": "markdown",
      "source": [
        "Graficamos las estadisticas originales de los datos"
      ],
      "metadata": {
        "id": "T7-2cR1s_2sd"
      }
    },
    {
      "cell_type": "code",
      "source": [
        "import seaborn as sns #permite generar fácilmente elegantes gráficos, proporciona una interfaz de alto nivel que es realmente sencilla de aprender.\n",
        "ax = plt.subplots(figsize = (15,10))\n",
        "ncount=len(df_combined)\n",
        "#ax[1].plot(df['dia'],df['hora'],color = 'tab:purple')\n",
        "sns.countplot(x='hora',hue = 'hora', data = df_combined, ax = ax[1]) #Muestre el conteo de observaciones en cada contenedor categórico usando barras.\n",
        "ax[1].set_title('hora')\n",
        "\n",
        "\n",
        "\n",
        "for p in ax[1].patches:\n",
        "    x=p.get_bbox().get_points()[:,0]\n",
        "    y=p.get_bbox().get_points()[1,1]\n",
        "    ax[1].annotate('{:.1f}%'.format(100.*y/ncount), (x.mean(), y), \n",
        "            ha='center', va='bottom') # set the alignment of the text\n",
        "\n",
        "#Guardamos la figura de barras original\n",
        "ax[0].savefig(\"barras_original_hora_2021.png\")"
      ],
      "metadata": {
        "id": "KejCUSSS4ryj",
        "colab": {
          "base_uri": "https://localhost:8080/",
          "height": 621
        },
        "outputId": "a34d3056-cf12-4e60-e728-cc6bd872e16b"
      },
      "execution_count": 41,
      "outputs": [
        {
          "output_type": "display_data",
          "data": {
            "text/plain": [
              "<Figure size 1080x720 with 1 Axes>"
            ],
            "image/png": "[encoded data removed]"
          },
          "metadata": {
            "needs_background": "light"
          }
        }
      ]
    },
    {
      "cell_type": "markdown",
      "source": [
        "Graficamos las estadisticas predecidas de los datos"
      ],
      "metadata": {
        "id": "wHqiix2p_93V"
      }
    },
    {
      "cell_type": "code",
      "source": [
        "ax = plt.subplots(figsize = (15,10))\n",
        "ncount=len(df_combined)\n",
        "sns.countplot(x='hora_prediccion',hue = 'hora_prediccion', data = df_combined, ax = ax[1]) #Muestre el conteo de observaciones en cada contenedor categórico usando barras.\n",
        "ax[1].set_title('hora_prediccion')\n",
        "\n",
        "\n",
        "for p in ax[1].patches:\n",
        "    x=p.get_bbox().get_points()[:,0]\n",
        "    y=p.get_bbox().get_points()[1,1]\n",
        "    ax[1].annotate('{:.1f}%'.format(100.*y/ncount), (x.mean(), y), \n",
        "            ha='center', va='bottom') # set the alignment of the text\n",
        "\n",
        "#Guardamos la figura de barras de predicción\n",
        "ax[0].savefig(\"barras_prediccion_hora_2021.png\")"
      ],
      "metadata": {
        "colab": {
          "base_uri": "https://localhost:8080/",
          "height": 622
        },
        "id": "tS7SEM3NtS_-",
        "outputId": "f94b8e48-8be7-49a8-e640-e8fd8c96551a"
      },
      "execution_count": 42,
      "outputs": [
        {
          "output_type": "display_data",
          "data": {
            "text/plain": [
              "<Figure size 1080x720 with 1 Axes>"
            ],
            "image/png": "[encoded data removed]"
          },
          "metadata": {
            "needs_background": "light"
          }
        }
      ]
    }
  ]
}